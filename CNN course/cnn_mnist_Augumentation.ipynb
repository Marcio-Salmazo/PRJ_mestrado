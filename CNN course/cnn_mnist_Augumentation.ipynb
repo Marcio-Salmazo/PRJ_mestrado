{
 "cells": [
  {
   "cell_type": "code",
   "execution_count": 6,
   "metadata": {},
   "outputs": [],
   "source": [
    "'''\n",
    "    A técnica de augmentation busca aumentar a quantidade de imagens na base de dados, criando \n",
    "    variações da imagens existentes no bd, com varições de zoom, tamanho, rotação, etc.\n",
    "    O Augumentation auxilia situações em que a base de dados para o treinamento não é extensa.\n",
    "'''\n",
    "from keras.datasets import mnist  # Importação da base de dados\n",
    "from keras.models import Sequential  # Modelo sequencial\n",
    "from keras.layers import Dense, Flatten  # 3ª e 4ª etapa da CNN\n",
    "from keras.layers import Conv2D, MaxPooling2D  # 1ª e 2ª etapa da CNN\n",
    "from keras.layers import BatchNormalization\n",
    "from keras import utils\n",
    "from keras.preprocessing.image import ImageDataGenerator"
   ]
  },
  {
   "cell_type": "code",
   "execution_count": 4,
   "metadata": {},
   "outputs": [],
   "source": [
    "'''\n",
    "    * Importação dos dados\n",
    "    * Redimensionamento das imagens (obter apenas 1 camada)\n",
    "    * Transformação do tipo de dado para a normalização\n",
    "    * Normalização\n",
    "    * Criação das dummy variables para as classes de treinamento e teste\n",
    "'''\n",
    "(xTrain, yTrain), (xTest, yTest) = mnist.load_data()\n",
    "\n",
    "trainForecasters = xTrain.reshape(xTrain.shape[0], 28, 28, 1)\n",
    "testForecasters = xTest.reshape(xTest.shape[0], 28, 28, 1)\n",
    "trainForecasters = trainForecasters.astype('float32')\n",
    "testForecasters = testForecasters.astype('float32')\n",
    "trainForecasters /= 255\n",
    "testForecasters /= 255\n",
    "\n",
    "trainClass = utils.to_categorical(yTrain, 10)\n",
    "testClass = utils.to_categorical(yTest, 10)"
   ]
  },
  {
   "cell_type": "code",
   "execution_count": 5,
   "metadata": {},
   "outputs": [
    {
     "name": "stdout",
     "output_type": "stream",
     "text": [
      "WARNING:tensorflow:From c:\\Users\\marci\\AppData\\Local\\Programs\\Python\\Python311\\Lib\\site-packages\\keras\\src\\backend.py:873: The name tf.get_default_graph is deprecated. Please use tf.compat.v1.get_default_graph instead.\n",
      "\n",
      "WARNING:tensorflow:From c:\\Users\\marci\\AppData\\Local\\Programs\\Python\\Python311\\Lib\\site-packages\\keras\\src\\layers\\pooling\\max_pooling2d.py:161: The name tf.nn.max_pool is deprecated. Please use tf.nn.max_pool2d instead.\n",
      "\n",
      "WARNING:tensorflow:From c:\\Users\\marci\\AppData\\Local\\Programs\\Python\\Python311\\Lib\\site-packages\\keras\\src\\optimizers\\__init__.py:309: The name tf.train.Optimizer is deprecated. Please use tf.compat.v1.train.Optimizer instead.\n",
      "\n"
     ]
    }
   ],
   "source": [
    "'''\n",
    "    * Criação da cnn no modelo sequencial (sequencia de layers)\n",
    "    * Camada de convolução com função de ativação Relu\n",
    "    * Normalização dos mapas de características\n",
    "    * Processo de max Pooling\n",
    "    * Processo de flattening \n",
    "    * Adição de uma hidden layer\n",
    "    * Adição da camada de saída com função de ativação 'softmax'\n",
    "    * Compilação da rede neural\n",
    "'''\n",
    "\n",
    "classifier = Sequential()\n",
    "classifier.add(Conv2D(32, (3,3), activation = 'relu'))\n",
    "classifier.add(BatchNormalization())\n",
    "classifier.add(MaxPooling2D(pool_size = (2,2)))\n",
    "classifier.add(Flatten())\n",
    "\n",
    "classifier.add(Dense(units = 128, activation = 'relu'))\n",
    "classifier.add(Dense(units = 10, activation = 'softmax'))\n",
    "classifier.compile(loss = 'categorical_crossentropy', optimizer = 'adam', metrics = ['accuracy'])"
   ]
  },
  {
   "cell_type": "code",
   "execution_count": 7,
   "metadata": {},
   "outputs": [
    {
     "name": "stderr",
     "output_type": "stream",
     "text": [
      "C:\\Users\\marci\\AppData\\Local\\Temp\\ipykernel_20456\\164371016.py:15: UserWarning: `Model.fit_generator` is deprecated and will be removed in a future version. Please use `Model.fit`, which supports generators.\n",
      "  classifier.fit_generator(trainDatabase,\n"
     ]
    },
    {
     "name": "stdout",
     "output_type": "stream",
     "text": [
      "Epoch 1/5\n",
      "WARNING:tensorflow:From c:\\Users\\marci\\AppData\\Local\\Programs\\Python\\Python311\\Lib\\site-packages\\keras\\src\\utils\\tf_utils.py:492: The name tf.ragged.RaggedTensorValue is deprecated. Please use tf.compat.v1.ragged.RaggedTensorValue instead.\n",
      "\n",
      "WARNING:tensorflow:From c:\\Users\\marci\\AppData\\Local\\Programs\\Python\\Python311\\Lib\\site-packages\\keras\\src\\engine\\base_layer_utils.py:384: The name tf.executing_eagerly_outside_functions is deprecated. Please use tf.compat.v1.executing_eagerly_outside_functions instead.\n",
      "\n",
      "468/468 [==============================] - 20s 41ms/step - loss: 0.3138 - accuracy: 0.9001 - val_loss: 0.2246 - val_accuracy: 0.9605\n",
      "Epoch 2/5\n",
      "468/468 [==============================] - 18s 38ms/step - loss: 0.1413 - accuracy: 0.9563 - val_loss: 0.0899 - val_accuracy: 0.9729\n",
      "Epoch 3/5\n",
      "468/468 [==============================] - 18s 39ms/step - loss: 0.1115 - accuracy: 0.9656 - val_loss: 0.1059 - val_accuracy: 0.9678\n",
      "Epoch 4/5\n",
      "468/468 [==============================] - 18s 39ms/step - loss: 0.0999 - accuracy: 0.9687 - val_loss: 0.0738 - val_accuracy: 0.9791\n",
      "Epoch 5/5\n",
      "468/468 [==============================] - 20s 42ms/step - loss: 0.0901 - accuracy: 0.9716 - val_loss: 0.0853 - val_accuracy: 0.9737\n"
     ]
    },
    {
     "data": {
      "text/plain": [
       "<keras.src.callbacks.History at 0x1b5dbe73ed0>"
      ]
     },
     "execution_count": 7,
     "metadata": {},
     "output_type": "execute_result"
    }
   ],
   "source": [
    "'''\n",
    "    Geração das novas imagens, pelo processo de augmentation\n",
    "    Inicialmente é necessário gerar variáveis dotadas das definições \n",
    "    de como as imagens serão modificadas pelo Image data Generator \n",
    "    (Biblioteca do keras responsável por aplicar\n",
    "    alterações nas imagens do dataset a fim de ampliá-lo)\n",
    "\n",
    "    * generatedTrain -> contem as definições dos dados para treinamento\n",
    "    * generatedTest -> contém as definições dos dados para teste\n",
    "\n",
    "    Explicação dos parâmetros utilizados:\n",
    "\n",
    "    * rotation_range -> Valor em graus (0-180), um intervalo dentro do qual as imagens podem ser rotacionadas aleatoriamente\n",
    "    * horizontal_flip -> Inverter aleatoriamente metade das imagens horizontalmente\n",
    "    * shear_range -> Aplicar transformações de cisalhamento aleatoriamente\n",
    "    * zoom_range -> Valor ou intervalo para definir um zoom aleatório aplicado\n",
    "    * height_shift_range -> Intervalos (como uma fração da altura total) dentro dos quais traduzem \n",
    "      imagens aleatoriamente na vertical \n",
    "\n",
    "    Observação: 'generatedTest' não recebe nenhum parâmetro uma vez que \n",
    "    não serão feitas transformações da imagem. A intenção do aumento de imagens\n",
    "    é exclusiva para o treinamento, as imagens de teste se adaptam às imagens novas\n",
    "'''\n",
    "\n",
    "generatedTrain = ImageDataGenerator(rotation_range = 7,\n",
    "                                    horizontal_flip = True,\n",
    "                                    shear_range = 0.2,\n",
    "                                    height_shift_range = 0.07,\n",
    "                                    zoom_range = 0.2)\n",
    "\n",
    "generatedTest = ImageDataGenerator()\n",
    "\n",
    "'''\n",
    "    Uma nova base de dados é gerada a partir dos dados pré-existentes, aplicando\n",
    "    as definições descritas previamentes pela classe ImageDataGenerator.\n",
    "    Observação, utilizando a técnica de augmentation, o batch size passa a ser definido aqui.\n",
    "'''\n",
    "\n",
    "trainDatabase = generatedTrain.flow(trainForecasters, trainClass, batch_size = 128)\n",
    "testDatabase = generatedTest.flow(testForecasters, testClass, batch_size =128)\n",
    "\n",
    "'''\n",
    "    Etapa de treinamento da rede neural. É importante que a função 'fit_generator' está sendo\n",
    "    utilizada ao invés da função 'fit' uma vez que ela suporta o processo de augmentation, contudo\n",
    "    tal função está em processo de depreciação, uma vez que em versões mais atuais, a função 'fit' \n",
    "    também suporta.\n",
    "\n",
    "    Explicação dos parâmetros:\n",
    "\n",
    "    * trainDatabase -> Dados para treino (após a augmentation)\n",
    "    * steps_per_epoch -> Número total de etapas (lotes de amostras) a serem produzidas \n",
    "                         pelo gerador antes de declarar uma época concluída e iniciar a próxima época.\n",
    "                         É importante citar que o valor ideal para este parâmetro se dá pelo total de \n",
    "                         amostras dividido pel valor do batch_size \n",
    "    * epochs -> Epocas de treinamento da rede\n",
    "    * validation_data -> Dados para a validação (após a augmentation)\n",
    "    * validation_steps -> Possui o mesmo princípio do 'steps_per_epoch', porém levando em \n",
    "                          consideração a etapa de validação. O valor ideal para este parâmetro \n",
    "                          se dá pelo total de amostras dividido pel valor do batch_siz e\n",
    "'''\n",
    "\n",
    "classifier.fit_generator(trainDatabase, \n",
    "                         steps_per_epoch = 60000/128, \n",
    "                         epochs = 5, \n",
    "                         validation_data = testDatabase,\n",
    "                         validation_steps = 10000 / 128)\n",
    "\n"
   ]
  }
 ],
 "metadata": {
  "language_info": {
   "name": "python"
  }
 },
 "nbformat": 4,
 "nbformat_minor": 2
}
