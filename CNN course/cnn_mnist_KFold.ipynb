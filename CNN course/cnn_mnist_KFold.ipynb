{
 "cells": [
  {
   "cell_type": "code",
   "execution_count": 1,
   "metadata": {},
   "outputs": [
    {
     "name": "stdout",
     "output_type": "stream",
     "text": [
      "WARNING:tensorflow:From c:\\Users\\marci\\AppData\\Local\\Programs\\Python\\Python311\\Lib\\site-packages\\keras\\src\\losses.py:2976: The name tf.losses.sparse_softmax_cross_entropy is deprecated. Please use tf.compat.v1.losses.sparse_softmax_cross_entropy instead.\n",
      "\n"
     ]
    }
   ],
   "source": [
    "from keras.datasets import mnist  # Importação da base de dados\n",
    "from keras.models import Sequential  # Modelo sequencial\n",
    "from keras.layers import Dense, Flatten  # 3ª e 4ª etapa da CNN\n",
    "from keras.layers import Conv2D, MaxPooling2D  # 1ª e 2ª etapa da CNN\n",
    "from keras import utils\n",
    "from sklearn.model_selection import StratifiedKFold\n",
    "import numpy as np"
   ]
  },
  {
   "cell_type": "code",
   "execution_count": null,
   "metadata": {},
   "outputs": [],
   "source": [
    "'''\n",
    "    Este trecho do código tem a função de para mudar a semente geradora dos\n",
    "    numeros aleatórios. Será utilizado para obter os mesmos resultados ao\n",
    "    fazer manualmente a divisão da base de dados durante a operação\n",
    "    de validação cruzada\n",
    "'''\n",
    "seed = 5\n",
    "np.random.seed(seed)"
   ]
  },
  {
   "cell_type": "markdown",
   "metadata": {},
   "source": [
    "<p>Tratamento dos dados</p>"
   ]
  },
  {
   "cell_type": "code",
   "execution_count": null,
   "metadata": {},
   "outputs": [],
   "source": [
    "'''\n",
    "    Carregar a base de dados, já com a separação pré-definida para teste e treinamento\n",
    "    x -> atributos previsores\n",
    "    y -> classes da base\n",
    "\n",
    "    Obs: para a validação cruzada, apenas os valores de treinamento serão utilizadas,\n",
    "    ou seja -> (xTrain, yTrain)\n",
    "'''\n",
    "\n",
    "(xTrain, yTrain), (xTest, yTest) = mnist.load_data()\n",
    "sizeXTRAIN = xTrain.shape\n",
    "sizeYTRAIN = yTrain.shape\n",
    "print('Shape dos atributos previsores de treinamento', sizeXTRAIN)\n",
    "print('Shape das classes de treinamento', sizeYTRAIN)\n",
    "\n",
    "'''\n",
    "    A dimensionalidade de cada imagem será diminuida, ou seja, apenas uma camada RGB será utilizada \n",
    "    e o tipo dos dados são alterados para float32 a fim de aplicar a normalização futuramente\n",
    "'''\n",
    "trainForecasters = xTrain.reshape(xTrain.shape[0], 28, 28, 1)\n",
    "trainForecasters = trainForecasters.astype('float32')\n",
    "trainForecasters /= 255  # Normalização\n",
    "\n",
    "'''\n",
    "    Criação de dummy variables a fim de criar um encoder para \n",
    "    os diferentes valores e representar as diferentes classes \n",
    "'''\n",
    "\n",
    "trainClass = utils.to_categorical(yTrain, 10)\n"
   ]
  },
  {
   "cell_type": "code",
   "execution_count": null,
   "metadata": {},
   "outputs": [],
   "source": [
    "'''\n",
    "    A variável kfold busca controlar a validação cruzada, a variável recebe\n",
    "    a função StratifiedKFold, com os seguintes parâmetros:\n",
    "\n",
    "    * n_splits -> Quantidade de 'dobras' ou seções em que a base de dados será dividida\n",
    "    * shuffle -> Define que os dados serão analizados aleatóriamente\n",
    "    * random_state -> Quando 'shuffle' for setado como true, o random_state afeta a ordem dos indices\n",
    "        controlando a aleatoriedade de cada dobra para cada classe\n",
    "'''\n",
    "\n",
    "kfold = StratifiedKFold(n_splits = 5, shuffle = True, random_state = seed)\n",
    "\n",
    "'''\n",
    "    O resultado de cada execução é inserido na lista da variável results\n",
    "'''\n",
    "results = []"
   ]
  },
  {
   "cell_type": "code",
   "execution_count": null,
   "metadata": {},
   "outputs": [],
   "source": []
  }
 ],
 "metadata": {
  "language_info": {
   "name": "python"
  }
 },
 "nbformat": 4,
 "nbformat_minor": 2
}
