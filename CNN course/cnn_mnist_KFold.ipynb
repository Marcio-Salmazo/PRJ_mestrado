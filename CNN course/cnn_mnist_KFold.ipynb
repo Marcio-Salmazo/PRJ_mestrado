{
 "cells": [
  {
   "cell_type": "code",
   "execution_count": 1,
   "metadata": {},
   "outputs": [
    {
     "name": "stdout",
     "output_type": "stream",
     "text": [
      "WARNING:tensorflow:From c:\\Users\\marci\\AppData\\Local\\Programs\\Python\\Python311\\Lib\\site-packages\\keras\\src\\losses.py:2976: The name tf.losses.sparse_softmax_cross_entropy is deprecated. Please use tf.compat.v1.losses.sparse_softmax_cross_entropy instead.\n",
      "\n"
     ]
    }
   ],
   "source": [
    "from keras.datasets import mnist  # Importação da base de dados\n",
    "from keras.models import Sequential  # Modelo sequencial\n",
    "from keras.layers import Dense, Flatten  # 3ª e 4ª etapa da CNN\n",
    "from keras.layers import Conv2D, MaxPooling2D  # 1ª e 2ª etapa da CNN\n",
    "from keras import utils\n",
    "from sklearn.model_selection import StratifiedKFold\n",
    "import numpy as np"
   ]
  },
  {
   "cell_type": "code",
   "execution_count": 2,
   "metadata": {},
   "outputs": [],
   "source": [
    "'''\n",
    "    Este trecho do código tem a função de para mudar a semente geradora dos\n",
    "    numeros aleatórios. Será utilizado para obter os mesmos resultados ao\n",
    "    fazer manualmente a divisão da base de dados durante a operação\n",
    "    de validação cruzada\n",
    "'''\n",
    "seed = 5\n",
    "np.random.seed(seed)"
   ]
  },
  {
   "cell_type": "markdown",
   "metadata": {},
   "source": [
    "<p>Tratamento dos dados</p>"
   ]
  },
  {
   "cell_type": "code",
   "execution_count": 3,
   "metadata": {},
   "outputs": [
    {
     "name": "stdout",
     "output_type": "stream",
     "text": [
      "Shape dos atributos previsores de treinamento (60000, 28, 28)\n",
      "Shape das classes de treinamento (60000,)\n"
     ]
    }
   ],
   "source": [
    "'''\n",
    "    Carregar a base de dados, já com a separação pré-definida para teste e treinamento\n",
    "    x -> atributos previsores\n",
    "    y -> classes da base\n",
    "\n",
    "    Obs: para a validação cruzada, apenas os valores de treinamento serão utilizadas,\n",
    "    ou seja -> (xTrain, yTrain)\n",
    "'''\n",
    "\n",
    "(xTrain, yTrain), (xTest, yTest) = mnist.load_data()\n",
    "sizeXTRAIN = xTrain.shape\n",
    "sizeYTRAIN = yTrain.shape\n",
    "print('Shape dos atributos previsores de treinamento', sizeXTRAIN)\n",
    "print('Shape das classes de treinamento', sizeYTRAIN)\n",
    "\n",
    "'''\n",
    "    A dimensionalidade de cada imagem será diminuida, ou seja, apenas uma camada RGB será utilizada \n",
    "    e o tipo dos dados são alterados para float32 a fim de aplicar a normalização futuramente\n",
    "'''\n",
    "trainForecasters = xTrain.reshape(xTrain.shape[0], 28, 28, 1)\n",
    "trainForecasters = trainForecasters.astype('float32')\n",
    "trainForecasters /= 255  # Normalização\n",
    "\n",
    "'''\n",
    "    Criação de dummy variables a fim de criar um encoder para \n",
    "    os diferentes valores e representar as diferentes classes \n",
    "'''\n",
    "\n",
    "trainClass = utils.to_categorical(yTrain, 10)\n"
   ]
  },
  {
   "cell_type": "code",
   "execution_count": 4,
   "metadata": {},
   "outputs": [],
   "source": [
    "'''\n",
    "    A variável kfold busca controlar a validação cruzada, a variável recebe\n",
    "    a função StratifiedKFold, com os seguintes parâmetros:\n",
    "\n",
    "    * n_splits -> Quantidade de 'dobras' ou seções em que a base de dados será dividida\n",
    "    * shuffle -> Define que os dados serão analizados aleatóriamente\n",
    "    * random_state -> Quando 'shuffle' for setado como true, o random_state afeta a ordem dos indices\n",
    "        controlando a aleatoriedade de cada dobra para cada classe\n",
    "'''\n",
    "\n",
    "kfold = StratifiedKFold(n_splits = 5, shuffle = True, random_state = seed)\n",
    "\n",
    "'''\n",
    "    O resultado de cada execução é inserido na lista da variável results\n",
    "'''\n",
    "results = []"
   ]
  },
  {
   "cell_type": "code",
   "execution_count": 7,
   "metadata": {},
   "outputs": [
    {
     "name": "stdout",
     "output_type": "stream",
     "text": [
      "Epoch 1/5\n",
      "375/375 [==============================] - 7s 16ms/step - loss: 0.2440 - accuracy: 0.9298\n",
      "Epoch 2/5\n",
      "375/375 [==============================] - 6s 17ms/step - loss: 0.0783 - accuracy: 0.9769\n",
      "Epoch 3/5\n",
      "375/375 [==============================] - 6s 17ms/step - loss: 0.0499 - accuracy: 0.9849\n",
      "Epoch 4/5\n",
      "375/375 [==============================] - 6s 16ms/step - loss: 0.0373 - accuracy: 0.9890\n",
      "Epoch 5/5\n",
      "375/375 [==============================] - 6s 16ms/step - loss: 0.0277 - accuracy: 0.9917\n",
      "375/375 [==============================] - 1s 2ms/step - loss: 0.0549 - accuracy: 0.9837\n",
      "Epoch 1/5\n",
      "375/375 [==============================] - 6s 15ms/step - loss: 0.2540 - accuracy: 0.9262\n",
      "Epoch 2/5\n",
      "375/375 [==============================] - 5s 14ms/step - loss: 0.0766 - accuracy: 0.9775\n",
      "Epoch 3/5\n",
      "375/375 [==============================] - 5s 14ms/step - loss: 0.0510 - accuracy: 0.9849\n",
      "Epoch 4/5\n",
      "375/375 [==============================] - 5s 14ms/step - loss: 0.0361 - accuracy: 0.9896\n",
      "Epoch 5/5\n",
      "375/375 [==============================] - 5s 14ms/step - loss: 0.0275 - accuracy: 0.9919\n",
      "375/375 [==============================] - 1s 2ms/step - loss: 0.0496 - accuracy: 0.9843\n",
      "Epoch 1/5\n",
      "375/375 [==============================] - 6s 14ms/step - loss: 0.2536 - accuracy: 0.9276\n",
      "Epoch 2/5\n",
      "375/375 [==============================] - 5s 14ms/step - loss: 0.0782 - accuracy: 0.9772\n",
      "Epoch 3/5\n",
      "375/375 [==============================] - 5s 14ms/step - loss: 0.0529 - accuracy: 0.9846\n",
      "Epoch 4/5\n",
      "375/375 [==============================] - 5s 14ms/step - loss: 0.0396 - accuracy: 0.9886\n",
      "Epoch 5/5\n",
      "375/375 [==============================] - 5s 14ms/step - loss: 0.0298 - accuracy: 0.9912\n",
      "375/375 [==============================] - 1s 2ms/step - loss: 0.0555 - accuracy: 0.9832\n",
      "Epoch 1/5\n",
      "375/375 [==============================] - 6s 14ms/step - loss: 0.2377 - accuracy: 0.9334\n",
      "Epoch 2/5\n",
      "375/375 [==============================] - 6s 15ms/step - loss: 0.0759 - accuracy: 0.9776\n",
      "Epoch 3/5\n",
      "375/375 [==============================] - 5s 14ms/step - loss: 0.0495 - accuracy: 0.9857\n",
      "Epoch 4/5\n",
      "375/375 [==============================] - 5s 15ms/step - loss: 0.0364 - accuracy: 0.9890\n",
      "Epoch 5/5\n",
      "375/375 [==============================] - 6s 15ms/step - loss: 0.0269 - accuracy: 0.9920\n",
      "375/375 [==============================] - 1s 2ms/step - loss: 0.0504 - accuracy: 0.9860\n",
      "Epoch 1/5\n",
      "375/375 [==============================] - 6s 14ms/step - loss: 0.2474 - accuracy: 0.9298\n",
      "Epoch 2/5\n",
      "375/375 [==============================] - 5s 15ms/step - loss: 0.0756 - accuracy: 0.9779\n",
      "Epoch 3/5\n",
      "375/375 [==============================] - 5s 14ms/step - loss: 0.0517 - accuracy: 0.9843\n",
      "Epoch 4/5\n",
      "375/375 [==============================] - 5s 15ms/step - loss: 0.0376 - accuracy: 0.9888\n",
      "Epoch 5/5\n",
      "375/375 [==============================] - 6s 15ms/step - loss: 0.0286 - accuracy: 0.9919\n",
      "375/375 [==============================] - 1s 2ms/step - loss: 0.0517 - accuracy: 0.9848\n"
     ]
    }
   ],
   "source": [
    "'''\n",
    "    O loop tem o objetivo de percorrer os dados selecionados para treinamento e teste em cada iteração,\n",
    "    utilizando a variável kfold (criada préviamente para controlar a validação cruzada).\n",
    "\n",
    "    'trainIndex' e 'testIndex' são definidos pelos ÍNDICES da base de dados que serão utilizados\n",
    "    para realizar treinamento da rede neural em cada iteração. \n",
    "    Seus valores serão definidos pela divisão de kfold e serão sempre distintos, uma vez que um grupo\n",
    "    será utilizado para treinamento e outro para teste.\n",
    "\n",
    "    ???\n",
    "    \n",
    "'''\n",
    "\n",
    "for trainIndex, testIndex in kfold.split(trainForecasters, np.zeros(shape = (trainClass.shape[0], 1))):\n",
    "   \n",
    "    '''\n",
    "        Definição de uma CNN básica\n",
    "    '''   \n",
    "    classificador = Sequential()\n",
    "    classificador.add(Conv2D(32, (3,3), activation = 'relu'))\n",
    "    classificador.add(MaxPooling2D(pool_size = (2,2)))\n",
    "    classificador.add(Flatten())\n",
    "\n",
    "    classificador.add(Dense(units = 128, activation = 'relu'))\n",
    "    classificador.add(Dense(units = 10, activation = 'softmax'))\n",
    "    classificador.compile(loss = 'categorical_crossentropy', optimizer = 'adam', metrics = ['accuracy'])\n",
    "\n",
    "    '''\n",
    "        O treinamento da rede neural se dá por meio dos dados definidos pelo index definidos em kfold\n",
    "    '''\n",
    "    classificador.fit(trainForecasters[trainIndex], trainClass[trainIndex], \n",
    "                      batch_size = 128, epochs = 5)\n",
    "    \n",
    "    '''\n",
    "        O método evaluate retorna a acurácia do treinamento em cada iteração, tais resultados são armazenados\n",
    "        na lista 'resultados'\n",
    "    '''\n",
    "    precision = classificador.evaluate(trainForecasters[testIndex], trainClass[testIndex])\n",
    "\n",
    "    results.append(precision[1])\n",
    "\n",
    "\n",
    "                                         "
   ]
  }
 ],
 "metadata": {
  "kernelspec": {
   "display_name": "Python 3",
   "language": "python",
   "name": "python3"
  },
  "language_info": {
   "codemirror_mode": {
    "name": "ipython",
    "version": 3
   },
   "file_extension": ".py",
   "mimetype": "text/x-python",
   "name": "python",
   "nbconvert_exporter": "python",
   "pygments_lexer": "ipython3",
   "version": "3.11.4"
  }
 },
 "nbformat": 4,
 "nbformat_minor": 2
}
