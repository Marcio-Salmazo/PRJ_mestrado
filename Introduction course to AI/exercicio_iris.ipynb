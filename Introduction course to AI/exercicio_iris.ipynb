{
 "cells": [
  {
   "cell_type": "markdown",
   "metadata": {},
   "source": [
    "Criar um loop para o rodar o modelo knn com valores de k de 1 à 25\n",
    "Faça o teste de performance para cada um dos valores de k\n",
    "e apresente os resultados"
   ]
  },
  {
   "cell_type": "code",
   "execution_count": null,
   "metadata": {},
   "outputs": [],
   "source": [
    "from sklearn.datasets import load_iris\n",
    "from sklearn.neighbors import KNeighborsClassifier\n",
    "from sklearn.model_selection import train_test_split\n",
    "from sklearn import metrics\n",
    "import numpy as np\n",
    "import matplotlib.pyplot as plt\n",
    "import math\n",
    "\n",
    "iris = load_iris()\n",
    "\n",
    "#------------------------------------------------------------\n",
    "\n",
    "#Dados (observações)\n",
    "x = iris.data\n",
    "#print(x.shape)\n",
    "#Target\n",
    "y = iris.target\n",
    "#print(iris.target.shape)\n",
    "#print(y.shape)\n",
    "\n",
    "#------------------------------------------------------------\n",
    "\n",
    "#Separação dos dados para avaliação de performance\n",
    "xTrain, xTest, yTrain, yTest = train_test_split(x, y, test_size=0.2)\n",
    "\n",
    "#print(xTrain.shape)\n",
    "#print(yTrain.shape)\n",
    "#print(xTest.shape)\n",
    "#print(yTest.shape)\n",
    "\n",
    "#------------------------------------------------------------\n",
    "idealK = 0\n",
    "kValue = []\n",
    "graphY = []\n",
    "\n",
    "for i in range(1, 26):\n",
    "\n",
    "    #uso do knn\n",
    "    knn = KNeighborsClassifier(n_neighbors = i)\n",
    "    knn.fit(xTrain, yTrain)\n",
    "    prev = knn.predict(xTest)\n",
    "    acertos = metrics.accuracy_score(yTest, prev)\n",
    "   \n",
    "    graphY.append(round(acertos,5))\n",
    "\n",
    "    if acertos >= idealK:\n",
    "        idealK = acertos\n",
    "        kValue.append(i)\n",
    "\n",
    "graphX = np.arange(0,25)\n",
    "\n",
    "print('valor ideal: ', kValue)\n",
    "print('O valor com maior porcentagem de acertos foi: ',idealK)\n",
    "#print(yTest)\n",
    "#print(graphY)\n",
    "\n",
    "plt.title('Relação entre K e acertos')\n",
    "plt.xlabel('valor de K')\n",
    "plt.ylabel('Porcentagem de acertos')\n",
    "plt.plot(graphX, graphY, color='red')\n",
    "plt.show()\n",
    "\n",
    "\n",
    "\n",
    "\n"
   ]
  }
 ],
 "metadata": {
  "kernelspec": {
   "display_name": "Python 3",
   "language": "python",
   "name": "python3"
  },
  "language_info": {
   "codemirror_mode": {
    "name": "ipython",
    "version": 3
   },
   "file_extension": ".py",
   "mimetype": "text/x-python",
   "name": "python",
   "nbconvert_exporter": "python",
   "pygments_lexer": "ipython3",
   "version": "3.11.4"
  }
 },
 "nbformat": 4,
 "nbformat_minor": 2
}
