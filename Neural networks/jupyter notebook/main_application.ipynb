{
 "cells": [
  {
   "cell_type": "code",
   "execution_count": 19,
   "metadata": {},
   "outputs": [],
   "source": [
    "\n",
    "import generalized_methods as gm"
   ]
  },
  {
   "cell_type": "code",
   "execution_count": null,
   "metadata": {},
   "outputs": [],
   "source": [
    "imgPath = 'C:/Users/marci/Desktop/Remastered Project/Images Dataset/Batch 06.04 Images'\n",
    "csvPath = 'C:/Users/marci/Desktop/Remastered Project/Datasets/Batch 06.04/RealData.csv'\n",
    "\n",
    "imgData, csvData = gm.getImages(imgPath, csvPath)\n",
    "dataTrain, dataTest, classTrain, classTest = gm.dataSplit(imgData, csvData, perc = 0.2, norm = 1)\n",
    "\n"
   ]
  },
  {
   "cell_type": "code",
   "execution_count": null,
   "metadata": {},
   "outputs": [],
   "source": [
    "# Snippet responsável pelo treinamento das redes\n",
    "alexNet = gm.AlexNet(dataTrain = dataTrain,\n",
    "                         classTrain= classTrain,\n",
    "                         batch_size = 32,\n",
    "                         epochs = 5,\n",
    "                         valData = (dataTest, classTest))\n",
    "\n",
    "# Salvar os pesos de um modelo, comentar caso não seja necessário\n",
    "alexNet.save_weights('alex.weights.h5')"
   ]
  }
 ],
 "metadata": {
  "kernelspec": {
   "display_name": "Python 3",
   "language": "python",
   "name": "python3"
  },
  "language_info": {
   "codemirror_mode": {
    "name": "ipython",
    "version": 3
   },
   "file_extension": ".py",
   "mimetype": "text/x-python",
   "name": "python",
   "nbconvert_exporter": "python",
   "pygments_lexer": "ipython3",
   "version": "3.11.4"
  }
 },
 "nbformat": 4,
 "nbformat_minor": 2
}
