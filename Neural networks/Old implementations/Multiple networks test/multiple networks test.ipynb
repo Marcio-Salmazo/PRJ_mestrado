{
 "cells": [
  {
   "cell_type": "code",
   "execution_count": 1,
   "metadata": {},
   "outputs": [
    {
     "name": "stdout",
     "output_type": "stream",
     "text": [
      "WARNING:tensorflow:From c:\\Users\\marci\\AppData\\Local\\Programs\\Python\\Python311\\Lib\\site-packages\\keras\\src\\losses.py:2976: The name tf.losses.sparse_softmax_cross_entropy is deprecated. Please use tf.compat.v1.losses.sparse_softmax_cross_entropy instead.\n",
      "\n"
     ]
    }
   ],
   "source": [
    "from keras.models import Sequential  \n",
    "from keras.layers import Dense, Flatten, Conv2D, MaxPooling2D, BatchNormalization, Dropout\n",
    "from keras import layers, models, optimizers, losses\n",
    "import tensorflow as tf\n",
    "from tensorflow.keras.callbacks import TensorBoard\n",
    "from sklearn.model_selection import train_test_split\n",
    "import numpy as np\n",
    "import pandas as pd\n",
    "import matplotlib.pyplot as plt\n",
    "import cv2 \n",
    "import os \n",
    "import glob"
   ]
  },
  {
   "cell_type": "code",
   "execution_count": 2,
   "metadata": {},
   "outputs": [
    {
     "name": "stdout",
     "output_type": "stream",
     "text": [
      "5100\n",
      "(5100, 1)\n"
     ]
    }
   ],
   "source": [
    "# CARREGAMENTO DOS DATASETS\n",
    "\n",
    "''' \n",
    "    Carregando a pasta de imagens (Dataset dos ovos)\n",
    "    * A função glob encontra todos os nomes de caminhos que correspondem a um padrão \n",
    "      especificado de acordo com as regras usadas pelo shell Unix\n",
    "\n",
    "    * Para cada um dos arquivos encontrados é feita a leitura\n",
    "      do arquivo .jpg (imagem), as imagens lidas são armazenadas\n",
    "      na lista 'data'\n",
    "'''\n",
    "img_dir = \"C:/Users/marci/Desktop/Projeto mestrado/Images Dataset/Batch 06.04 Images\"\n",
    "data_path = os.path.join(img_dir,'*g') \n",
    "\n",
    "folder = glob.glob(data_path) \n",
    "data = [] \n",
    "for files in folder: \n",
    "    img = cv2.imread(files) \n",
    "    data.append(img) \n",
    "\n",
    "'''   \n",
    "    Carregando e tratando o arquivo CSV\n",
    "'''\n",
    "eggClass = pd.read_csv(\"RealData.csv\")\n",
    "cList = eggClass.to_numpy()\n",
    "\n",
    "print(len(data))\n",
    "print(cList.shape)"
   ]
  },
  {
   "cell_type": "code",
   "execution_count": 3,
   "metadata": {},
   "outputs": [
    {
     "name": "stdout",
     "output_type": "stream",
     "text": [
      "[1, 5, 12, 14, 18, 20, 33, 43, 45, 57, 60, 61, 62, 68, 74, 75, 76, 79, 87, 88, 90, 92, 97, 103, 109, 112, 113, 114, 116, 123, 126, 136, 138, 141, 144, 145, 148, 149, 154, 156, 157, 165, 172, 185, 186, 192, 194, 199, 201, 206, 210, 216, 220, 222, 223, 225, 230, 231, 232, 236, 240, 241, 244, 247, 248, 253, 255, 257, 258, 266, 270, 271, 276, 283, 285, 289, 297, 298, 303, 306, 316, 331, 343, 349, 353, 355, 356, 360, 365, 366, 368, 369, 371, 372, 379, 390, 391, 397, 405, 410, 414, 416, 418, 420, 421, 438, 439, 442, 444, 445, 446, 447, 448, 449, 451, 454, 456, 457, 459, 467, 469, 473, 474, 479, 482, 485, 486, 488, 489, 493, 500, 510, 514, 515, 522, 523, 524, 527, 529, 534, 537, 538, 548, 554, 565, 568, 571, 572, 581, 583, 588, 590, 597, 598, 603, 608, 610, 612, 616, 617, 618, 620, 621, 624, 625, 626, 628, 635, 638, 641, 643, 645, 646, 647, 653, 654, 656, 662, 668, 672, 678, 682, 689, 692, 695, 697, 700, 706, 707, 711, 715, 720, 721, 739, 741, 744, 750, 752, 754, 757, 759, 760, 761, 762, 774, 779, 782, 784, 786, 789, 791, 797, 800, 804, 819, 823, 830, 834, 836, 839, 840, 841, 844, 848, 861, 863, 864, 867, 869, 872, 874, 875, 878, 879, 883, 884, 887, 888, 889, 893, 895, 898, 903, 907, 908, 911, 918, 923, 925, 929, 936, 938, 940, 947, 960, 966, 967, 968, 976, 979, 987, 1005, 1010, 1011, 1018, 1019, 1021, 1022, 1028, 1030, 1032, 1034, 1037, 1043, 1047, 1049, 1050, 1053, 1062, 1063, 1068, 1072, 1077, 1078, 1083, 1088, 1094, 1097, 1102, 1106, 1117, 1124, 1130, 1133, 1136, 1137, 1140, 1143, 1147, 1148, 1150, 1151, 1162, 1166, 1175, 1177, 1180, 1185, 1187, 1189, 1198, 1200, 1203, 1212, 1216, 1220, 1225, 1226, 1229, 1230, 1231, 1235, 1236, 1238, 1240, 1243, 1249, 1250, 1253, 1254, 1255, 1285, 1286, 1293, 1294, 1299, 1304, 1308, 1310, 1311, 1312, 1314, 1319, 1324, 1325, 1327, 1328, 1335, 1339, 1343, 1346, 1348, 1353, 1362, 1364, 1374, 1377, 1383, 1395, 1399, 1400, 1405, 1406, 1407, 1409, 1414, 1419, 1427, 1442, 1443, 1446, 1449, 1459, 1462, 1467, 1470, 1471, 1474, 1482, 1486, 1489, 1494, 1499, 1502, 1520, 1523, 1524, 1529, 1533, 1535, 1546, 1547, 1548, 1559, 1563, 1564, 1568, 1571, 1575, 1578, 1589, 1593, 1599, 1602, 1605, 1611, 1613, 1614, 1621, 1622, 1627, 1633, 1636, 1639, 1641, 1642, 1643, 1646, 1649, 1655, 1658, 1661, 1666, 1672, 1675, 1678, 1692, 1706, 1708, 1709, 1712, 1713, 1720, 1721, 1744, 1758, 1770, 1777, 1782, 1785, 1786, 1787, 1791, 1796, 1799, 1800, 1808, 1813, 1814, 1817, 1819, 1820, 1826, 1834, 1838, 1842, 1845, 1852, 1854, 1874, 1875, 1877, 1879, 1891, 1896, 1905, 1913, 1926, 1937, 1938, 1946, 1951, 1955, 1956, 1961, 1962, 1964, 1965, 1969, 1971, 1975, 1977, 1979, 1989, 1995, 2004, 2006, 2012, 2015, 2017, 2020, 2026, 2027, 2028, 2032, 2035, 2036, 2038, 2039, 2041, 2043, 2053, 2057, 2064, 2072, 2073, 2088, 2090, 2094, 2107, 2109, 2116, 2122, 2128, 2132, 2140, 2142, 2148, 2151, 2172, 2177, 2178, 2179, 2183, 2188, 2196, 2202, 2208, 2209, 2210, 2219, 2223, 2230, 2234, 2239, 2241, 2242, 2252, 2257, 2258, 2259, 2261, 2263, 2264, 2268, 2270, 2273, 2274, 2278, 2280, 2285, 2286, 2297, 2302, 2316, 2319, 2320, 2323, 2326, 2330, 2331, 2333, 2344, 2345, 2353, 2357, 2359, 2369, 2370, 2373, 2374, 2378, 2382, 2383, 2384, 2389, 2393, 2398, 2399, 2401, 2402, 2404, 2408, 2418, 2421, 2422, 2428, 2434, 2435, 2436, 2438, 2439, 2440, 2444, 2447, 2450, 2453, 2456, 2466, 2470, 2476, 2481, 2483, 2486, 2494, 2496, 2497, 2499, 2501, 2503, 2510, 2512, 2513, 2514, 2517, 2524, 2528, 2529, 2530, 2532, 2533, 2534, 2541, 2549, 2552, 2558, 2560, 2569, 2577, 2584, 2585, 2589, 2591, 2599, 2600, 2605, 2615, 2626, 2633, 2642, 2645, 2655, 2657, 2660, 2665, 2667, 2672, 2673, 2674, 2675, 2681, 2686, 2690, 2692, 2694, 2707, 2711, 2713, 2719, 2724, 2727, 2729, 2730, 2731, 2732, 2738, 2741, 2747, 2753, 2756, 2757, 2759, 2765, 2773, 2776, 2777, 2778, 2779, 2780, 2783, 2787, 2789, 2792, 2794, 2797, 2800, 2805, 2806, 2807, 2809, 2811, 2814, 2818, 2820, 2822, 2827, 2835, 2840, 2845, 2849, 2851, 2856, 2859, 2862, 2867, 2868, 2873, 2875, 2878, 2887, 2891, 2896, 2900, 2902, 2905, 2914, 2919, 2920, 2921, 2928, 2929, 2930, 2936, 2939, 2949, 2957, 2960, 2962, 2963, 2968, 2974, 2975, 2982, 2985, 2987, 2988, 2990, 2991, 2993, 2996, 3000, 3002, 3006, 3007, 3011, 3012, 3014, 3018, 3022, 3023, 3029, 3030, 3032, 3034, 3037, 3038, 3043, 3048, 3054, 3057, 3059, 3070, 3073, 3074, 3079, 3081, 3082, 3083, 3084, 3086, 3087, 3089, 3092, 3095, 3097, 3098, 3100, 3102, 3106, 3109, 3113, 3114, 3117, 3118, 3120, 3129, 3136, 3138, 3141, 3144, 3147, 3154, 3156, 3157, 3158, 3160, 3164, 3167, 3169, 3172, 3174, 3176, 3178, 3187, 3192, 3194, 3205, 3207, 3212, 3214, 3215, 3216, 3218, 3219, 3221, 3229, 3232, 3236, 3239, 3240, 3243, 3244, 3246, 3255, 3256, 3260, 3264, 3269, 3271, 3274, 3277, 3279, 3280, 3289, 3292, 3293, 3294, 3296, 3297, 3298, 3299, 3301, 3303, 3306, 3313, 3316, 3322, 3330, 3336, 3337, 3338, 3339, 3341, 3353, 3354, 3356, 3359, 3361, 3363, 3367, 3370, 3378, 3380, 3385, 3386, 3387, 3389, 3393, 3400, 3406, 3409, 3411, 3414, 3416, 3417, 3420, 3425, 3427, 3428, 3436, 3437, 3439, 3443, 3447, 3451, 3452, 3455, 3470, 3488, 3490, 3494, 3496, 3497, 3498, 3501, 3509, 3520, 3521, 3527, 3529, 3532, 3533, 3536, 3537, 3540, 3541, 3544, 3548, 3551, 3553, 3556, 3559, 3560, 3561, 3564, 3565, 3574, 3588, 3591, 3597, 3602, 3607, 3609, 3616, 3618, 3622, 3624, 3630, 3631, 3632, 3633, 3634, 3635, 3638, 3642, 3647, 3651, 3654, 3660, 3661, 3667, 3673, 3674, 3681, 3700, 3702, 3706, 3710, 3711, 3717, 3719, 3720, 3723, 3724, 3725, 3728, 3729, 3731, 3734, 3738, 3740, 3745, 3754, 3755, 3757, 3760, 3761, 3764, 3766, 3768, 3771, 3776, 3779, 3780, 3783, 3788, 3791, 3792, 3793, 3797, 3798, 3803, 3804, 3811, 3813, 3815, 3817, 3819, 3820, 3823, 3826, 3827, 3828, 3831, 3833, 3834, 3839, 3841, 3842, 3845, 3849, 3855, 3858, 3867, 3874, 3888, 3889, 3890, 3891, 3892, 3897, 3909, 3915, 3919, 3923, 3924, 3925, 3927, 3932, 3935, 3936, 3937, 3940, 3942, 3948, 3949, 3952, 3954, 3955, 3960, 3961, 3962, 3963, 3964, 3967, 3968, 3969, 3979, 3982, 3986, 3988, 3996, 3998, 3999, 4004, 4005, 4012, 4014, 4021, 4022, 4029, 4036, 4039, 4047, 4048, 4049, 4052, 4055, 4057, 4059, 4060, 4066, 4069, 4073, 4079, 4081, 4084, 4087, 4091, 4093, 4098, 4100, 4104, 4106, 4110, 4111, 4120, 4127, 4128, 4129, 4150, 4157, 4158, 4163, 4164, 4168, 4171, 4172, 4173, 4179, 4180, 4182, 4185, 4189, 4193, 4195, 4196, 4199, 4200, 4205, 4206, 4214, 4215, 4216, 4218, 4221, 4224, 4228, 4233, 4236, 4237, 4242, 4246, 4258, 4259, 4264, 4268, 4269, 4284, 4290, 4304, 4307, 4308, 4312, 4313, 4314, 4316, 4318, 4319, 4320, 4321, 4323, 4329, 4332, 4333, 4337, 4338, 4341, 4343, 4345, 4346, 4350, 4355, 4359, 4362, 4364, 4366, 4367, 4370, 4371, 4372, 4373, 4380, 4387, 4395, 4396, 4403, 4405, 4411, 4413, 4423, 4425, 4428, 4430, 4438, 4439, 4440, 4448, 4451, 4452, 4467, 4469, 4473, 4482, 4484, 4485, 4486, 4488, 4489, 4491, 4494, 4495, 4498, 4501, 4502, 4503, 4505, 4506, 4507, 4510, 4511, 4514, 4519, 4520, 4521, 4523, 4525, 4529, 4532, 4537, 4542, 4546, 4547, 4548, 4550, 4552, 4553, 4558, 4572, 4574, 4576, 4578, 4585, 4588, 4590, 4592, 4594, 4598, 4600, 4603, 4611, 4612, 4613, 4615, 4622, 4623, 4625, 4628, 4629, 4630, 4634, 4635, 4642, 4646, 4647, 4654, 4655, 4656, 4658, 4660, 4664, 4668, 4669, 4673, 4674, 4678, 4682, 4683, 4689, 4692, 4699, 4700, 4704, 4707, 4712, 4717, 4718, 4720, 4722, 4724, 4726, 4727, 4731, 4734, 4735, 4738, 4743, 4758, 4762, 4763, 4765, 4776, 4778, 4779, 4780, 4783, 4789, 4792, 4795, 4797, 4798, 4799, 4801, 4802, 4804, 4805, 4806, 4807, 4809, 4813, 4814, 4817, 4821, 4823, 4835, 4836, 4837, 4842, 4845, 4852, 4855, 4861, 4864, 4870, 4872, 4873, 4876, 4878, 4880, 4881, 4888, 4894, 4898, 4899, 4900, 4903, 4904, 4905, 4907, 4910, 4911, 4912, 4914, 4917, 4922, 4924, 4929, 4942, 4945, 4946, 4950, 4954, 4955, 4958, 4959, 4960, 4972, 4978, 4983, 4984, 4985, 4987, 4989, 4993, 4994, 5006, 5009, 5012, 5016, 5019, 5022, 5025, 5027, 5030, 5033, 5038, 5041, 5045, 5046, 5052, 5053, 5055, 5057, 5067, 5074, 5080, 5081, 5084, 5087, 5089, 5091, 5092, 5095, 1458, 1380, 3375, 512, 1156, 1251, 4551, 1337, 3085, 395, 1385, 4460, 3785, 2083, 1892, 849, 1631, 4389, 2448, 2557, 1806, 4483, 3206, 3350, 4178, 2518, 4772, 2240, 842, 1270, 4716, 1453, 1454, 3881, 21, 1509, 2339, 1332, 699, 2346, 2098, 734, 2377, 3055, 2519, 267, 2508, 1170, 4217, 1803, 4703, 2641, 1513, 1283, 1500, 1272, 886, 871, 2658, 2926, 3047, 3552, 2314, 403, 4719, 1008, 971, 3601, 2166, 5023, 262, 3862, 4003, 2291, 4031, 4292, 2222, 566, 3608, 401, 1725, 3697, 2617, 1525, 3189, 1113, 1717, 1757, 3587, 302, 3860, 2728, 4050, 3767, 273, 4391, 1635, 5039, 2102, 3166, 4038, 37, 3418, 1289, 970, 3910, 3600, 1016, 2105, 278, 2879, 3105, 4686, 4536, 928, 4606, 3290, 822, 4303, 1188, 1368, 1349, 1570, 3302, 4979, 5014, 3163, 1582, 1750, 2153, 2417, 2978, 181, 2457, 2474, 5088, 95, 4418, 292, 4273, 4584, 2606, 2663, 3611, 1644, 4227, 1539, 1662, 2078, 4089, 2337, 4725, 1369, 3945, 2539, 4010, 4261, 142, 3145, 2885, 2687, 143, 2635, 1586, 1623, 4648, 1981, 1549, 2768, 264, 272, 4295, 2403, 382, 1232, 3426, 1305, 4296, 1616, 1375, 3853, 2002, 1126, 3278, 3599, 4939, 1861, 2614, 1607, 4601, 776, 3670, 1089, 1585, 3505, 3227, 2638, 3730, 2180, 381, 1277, 924, 3743, 1297, 2482, 1492, 826, 1142, 2884, 3857, 3142, 3052, 2485, 1479, 150, 93, 663, 4545, 1812, 2886, 713, 3325, 2966, 2705, 745, 102, 619, 3459, 2630, 3376, 2289, 2454, 2701, 1909, 1677, 3423, 443, 265, 3605, 4034, 991, 4713, 2324, 296, 586, 933, 3567, 4393, 4465, 778, 4616, 1103, 932, 4443, 5011, 2669, 1927, 2469, 3108, 2332, 2309, 1724, 1284, 4565, 4130, 1466, 4883, 1934, 1291, 3323, 4478, 3570, 3938, 5097, 3005, 4232, 1536, 1046, 3808, 3712, 1831, 1358, 2943, 3722, 3231, 1452, 347, 3134, 4906, 4932, 2200, 657, 4971, 530, 3800, 1485, 425, 4675, 4109, 2055, 2565, 1551, 2628, 3275, 238, 1044, 1821, 4891, 3918, 1006, 2051, 2150, 3009, 2984, 4933, 234, 4832, 3111, 1734, 2391, 3503, 1560, 1290, 4082, 2096, 115, 4579, 132, 862, 4988, 2857, 2616, 4102, 3583, 5082, 2860, 2554, 1733, 996, 2927, 3320, 3127, 1952, 4202, 3951, 2452, 770, 1370, 2986, 850, 555, 3859, 4677, 3204, 268, 1366, 221, 1900, 106, 4306, 3659, 3069, 2119, 344, 56, 129, 614, 2063, 877, 1660, 4951, 4952, 1403, 684, 4680, 1843, 4866, 5083, 2000, 2308, 4736, 80, 821, 1901, 1603, 3694, 4400, 4159, 3614, 4733, 161, 4632, 813, 814, 623, 2182, 124, 1818, 4614, 1867, 3851, 1426, 818, 1776, 865, 2625, 636, 2631, 3402, 1745, 3139, 4080, 3491, 722, 2785, 2130, 1002, 4392, 2458, 1024, 4589, 1997, 5093, 3374, 5050, 3068, 1017, 3368, 176, 3615, 4167, 1023, 547, 2129, 2872, 39, 755, 1421, 4028, 710, 1825, 3966, 681, 3737, 4421, 1003, 3251, 4324, 1191, 4122, 896, 2923, 432, 3064, 3603, 4017, 2883, 3033, 1595, 4026, 2970, 2292, 1213, 4383, 2081, 233, 3507, 3257, 5065, 3863, 3190, 815, 5054, 260, 4848, 2190, 1912, 3026, 374, 83, 1957, 1129, 218, 2877, 934, 4105, 324, 4624, 1680, 3340, 2310, 203, 4054, 1476, 2995, 2158, 2679, 2911, 1987, 346, 2593, 2720, 3419, 3884, 4272, 3644, 1096, 4948, 23, 4728, 436, 2416, 673, 2115, 4534, 2682, 2379, 1444, 1079, 4568, 2342, 3050, 2684, 1835, 1516, 4088, 427, 1428, 30, 3201, 1315, 561, 205, 771, 1091, 1125, 2322, 950, 3646, 1545, 2961, 2972, 2592, 2372, 4602, 4580, 2848, 341, 4982, 920, 394, 2586, 2815, 1058, 4354, 35, 1569, 1686, 3666, 2555, 4524, 3901, 1121, 756, 2021, 4148, 2869, 3805, 177, 511, 496, 4761, 3348, 4470, 4108, 2542, 3516, 291, 5040, 1669, 2841, 4175, 4166, 4394, 4363, 832, 1805, 781, 3049, 919, 3265, 2366, 5001, 3933, 1344, 67, 3905, 2953, 912, 4305, 3199, 472, 2068, 3104, 2066, 937, 3159, 671, 1550, 4786, 2733, 4775, 693, 2243, 517, 4681, 66, 1693, 4651, 1042, 1902, 3652, 497, 293, 4133, 4398, 4871, 4278, 4649, 983, 3733, 885, 4757, 3558, 1387, 2564, 2048, 2074, 1465, 4496, 685, 843, 4840, 367, 3549, 2325, 4696, 1907, 3412, 812, 4123, 831, 3746, 3713, 1629, 3200, 4633, 3476, 2162, 4239, 546, 4844, 1194, 1352, 4134, 2575, 1574, 1884, 648, 3499, 4203, 2392, 1429, 2086, 28, 2967, 4925, 1572, 3270, 3749, 2603, 2192, 1057, 4051, 3094, 1361, 1882, 1437, 4431, 1580, 4358, 3041, 2735, 4402, 4256, 4002, 308, 2425, 4192, 719, 1738, 245, 134, 4528, 1165, 4000, 2143, 2181, 965, 765, 2668, 178, 4317, 3381, 1696, 4190, 2695, 393, 4555, 3778, 2493, 1883, 417, 1287, 4300, 4379, 4730, 2146, 345, 2360, 3468, 3056, 3856, 1730, 2601, 2225, 2702, 2864, 1081, 595, 949, 827, 243, 1411, 2726, 505, 1224, 2030, 166, 2429, 4097, 3413, 2950, 607, 4288, 630, 2199, 4764, 2300, 4070, 2965, 3332, 2977, 2410, 1036, 4851, 215, 2472, 916, 3917, 4365, 969, 3066, 2387, 2347, 167, 544, 3696, 1110, 3051, 3535, 3429, 3044, 3504, 580, 464, 1131, 51, 1988, 1045, 2562, 147, 2837, 1771, 730, 1873, 4737, 3153, 3515, 1276, 1267, 3287, 3195, 4996, 2380, 1699, 1804, 5000, 2739, 2543, 3547, 1930, 3538, 1798, 312, 4938, 4770, 1149, 4617, 4326, 4006, 1837, 2677, 2067, 4274, 3510, 2908, 2056, 787, 3358, 5018, 2944, 2550, 3893, 1775, 3983, 3648, 3208, 3198, 2340, 2318, 2535, 311, 1436, 3886, 1670, 2712, 2568, 4666, 3989, 1435, 4251, 3777, 2433, 1261, 151, 2721, 4476, 3319, 3832, 1055, 1146, 2764, 3975, 1895, 2008, 4961, 2415, 4800, 1840, 2696, 1376, 1856, 3640, 2467, 4248, 4889, 2964, 38, 1417, 155, 4053, 615, 868, 3371, 4390, 3456, 4194, 4998, 2042, 1197, 2798, 1917, 3365, 375, 458, 3703, 3627, 3065, 1173, 2468, 2084, 2506, 2445, 1145, 4643, 2473, 2303, 1086, 2992, 429, 4223, 4226, 1326, 2907, 4247, 350, 4839, 5056, 3446, 633, 4046, 3383, 3773, 1141, 4645, 2824, 117, 1302, 3598, 13, 1122, 4434, 3025, 2813, 4788, 1134, 328, 1606, 4309, 801, 3149, 118, 2313, 1772, 4862, 3837, 4442, 3283, 1597, 125, 1860, 1247, 927, 4143, 591, 1090, 3794, 3115, 3850, 748, 658, 519, 3514, 386, 1908, 2654, 1505, 4564, 4690, 4893, 2559, 1263, 574, 4559, 2371, 3314, 2317, 1596, 1889, 3836, 3656, 163, 764, 4437, 3457, 40, 246, 4841, 2390, 4422, 1420, 853, 1807, 2394, 642, 2046, 1158, 2799, 3394, 321, 4824, 1207, 4037, 1342, 649, 1127, 2693, 1763, 1120, 251, 2522, 4204, 882, 859, 2622, 2782, 73, 2954, 1227, 962, 1753, 364, 4027, 3727, 1781, 4637, 3282, 1663, 2139, 1271, 2283, 3220, 3349, 2639, 3946, 802, 3021, 1218, 3392, 3878, 318, 3, 2395, 1159, 3480, 3687, 4697, 387, 2451, 4740, 2375, 3913, 4709, 2091, 4609, 2500, 5032, 3736, 1303, 2092, 1487, 32, 1992, 4968, 1922, 999, 3395, 1587, 4374, 107, 3699, 3382, 4475, 3155, 2085, 2101, 2304, 4446, 1759, 453, 2699, 724, 2124, 1223, 1416, 2215, 4513, 1735, 1876, 1996, 4466, 1512, 4874, 1211, 44, 130, 3680, 4999, 3586, 3590, 3838, 803, 4909, 4639, 563, 3258, 2750, 2882, 1828, 173, 651, 1351, 1794, 1986, 1684, 1181, 1743, 5005, 3756, 4009, 3076, 2561, 3809, 1264, 4145, 3304, 2889, 705, 1716, 4826, 4107, 2368, 4458, 1714, 4455, 484, 3285, 19, 4085, 3071, 3062, 3090, 227, 2618, 1116, 3241, 2034, 1014, 1701, 3907, 3959, 2197, 2863, 5071, 914, 3352, 1205, 3835, 1722, 4679, 3369, 4336, 4688, 1493, 277, 2288, 4812, 2632, 1183, 1020, 2597, 2980, 2736, 3477, 1683, 2201, 4013, 3454, 3782, 3483, 1257, 4596, 4526, 2220, 2106, 3333, 1601, 1356, 140, 763, 2060, 1628, 352, 299, 2784, 2723, 1849, 249, 740, 5015, 3653, 2989, 1491, 2232, 4401, 183, 3305, 3291, 2994, 1832, 1306, 5049, 942, 2033, 3099, 3899, 3173, 1360, 4619, 4854, 3705, 2077, 3060, 2254, 2236, 667, 2100, 1846, 3103, 2876, 2913, 939, 644, 906, 481, 1652, 426, 377, 2477, 1228, 2111, 1880, 1555, 1123, 1810, 2352, 4064, 3478, 2910, 4828, 977, 1363, 2423, 3790, 1851, 4748, 404, 4234, 4072, 4544, 2931, 513, 2376, 2595, 2583, 4186, 4741, 3286, 2269, 1918, 3898, 3067, 2925, 4858, 2946, 4746, 3953, 716, 1659, 3462, 2621, 2061, 1164, 3268, 890, 2287, 4793, 1829, 4838, 4522, 3894, 1862, 1985, 3253, 1378, 4075, 1455, 528, 4796, 351, 31, 0, 170, 1242, 146, 4517, 4621, 1710, 4184, 2397, 4856, 4818, 2364, 2579, 2938, 1350, 94, 29, 4667, 3582, 1260, 2306, 4074, 995, 1765, 577, 4571, 3922, 338, 4976, 690, 2016, 4294, 2656, 570, 63, 4058, 1245, 3665, 2246, 3623, 4791, 3237, 2691, 4769, 1248, 1967, 717, 3759, 795, 2138, 3781, 4659, 5036, 3571, 1300, 1178, 1472, 5035, 1816, 2871, 4404, 3267, 2823, 101, 2855, 2498, 4490, 558, 4784, 857, 2833]\n",
      "2746\n"
     ]
    }
   ],
   "source": [
    "subset = []\n",
    "values = []\n",
    "for i in range(len(cList)):\n",
    "    if cList[i] == 0:\n",
    "        subset.append(i)\n",
    "    if cList[i] == 1:\n",
    "        values.append(i)\n",
    "\n",
    "randomIndex = np.random.choice(values, 1373, replace=False)\n",
    "\n",
    "for j in range(len(randomIndex)):\n",
    "    subset.append(randomIndex[j])\n",
    "\n",
    "print(subset)\n",
    "print(len(subset))\n"
   ]
  },
  {
   "cell_type": "code",
   "execution_count": 4,
   "metadata": {},
   "outputs": [
    {
     "name": "stdout",
     "output_type": "stream",
     "text": [
      "1373\n",
      "1373\n"
     ]
    }
   ],
   "source": [
    "ct1 = 0\n",
    "ct2 = 0\n",
    "for z in range(len(subset)):\n",
    "    if cList[subset[z]] == 0:\n",
    "        ct1 += 1\n",
    "    if cList[subset[z]] == 1:\n",
    "        ct2 += 1\n",
    "    \n",
    "print(ct1)\n",
    "print(ct2)"
   ]
  },
  {
   "cell_type": "code",
   "execution_count": 5,
   "metadata": {},
   "outputs": [
    {
     "name": "stdout",
     "output_type": "stream",
     "text": [
      "img train 2196\n",
      "img test 550\n",
      "class train 2196\n",
      "class test 550\n"
     ]
    }
   ],
   "source": [
    "# Dataset Completo\n",
    "# Comentar seção caso não seja necessário\n",
    "\n",
    "#ind = np.arange(len(data))\n",
    "train, test = train_test_split(subset, test_size=0.2, random_state=42)\n",
    "\n",
    "#\n",
    "dataTrain = []\n",
    "dataTest = []\n",
    "classTrain = []\n",
    "classTest = []\n",
    "\n",
    "#\n",
    "for i in range(len(train)):\n",
    "\n",
    "    dataTrain.append(data[train[i]])\n",
    "    classTrain.append(cList[train[i]])\n",
    "\n",
    "for j in range(len(test)):\n",
    "\n",
    "    dataTest.append(data[test[j]])\n",
    "    classTest.append(cList[test[j]])\n",
    "\n",
    "#\n",
    "dataTrain = np.array(dataTrain)\n",
    "dataTest = np.array(dataTest)\n",
    "classTrain = np.array(classTrain)\n",
    "classTest = np.array(classTest)\n",
    "\n",
    "print('img train', len(dataTrain))\n",
    "print('img test', len(dataTest))\n",
    "print('class train', len(classTrain))\n",
    "print('class test', len(classTest))\n"
   ]
  },
  {
   "cell_type": "code",
   "execution_count": 6,
   "metadata": {},
   "outputs": [],
   "source": [
    "del data\n",
    "del cList\n",
    "del subset\n",
    "del values\n",
    "del randomIndex"
   ]
  },
  {
   "cell_type": "code",
   "execution_count": 7,
   "metadata": {},
   "outputs": [],
   "source": [
    "'''\n",
    "    Alterando o tipo dos dados para float32 a fim de aplicar \n",
    "    a normalização futuramente\n",
    "'''\n",
    "\n",
    "dataTrain = dataTrain.astype('float32')\n",
    "dataTest = dataTest.astype('float32')\n",
    "\n",
    "'''\n",
    "    Realizando a normalização (min/max normalization) a fim de que os valores dos pixels estejam\n",
    "    entre 0 e 1, tornando o processamento mais eficiente\n",
    "    obs: 255 é o valor máximo do pixel\n",
    "'''\n",
    "\n",
    "dataTrain /= 255\n",
    "dataTest /= 255"
   ]
  },
  {
   "cell_type": "code",
   "execution_count": 3,
   "metadata": {},
   "outputs": [
    {
     "name": "stderr",
     "output_type": "stream",
     "text": [
      "C:\\Users\\marci\\AppData\\Local\\Packages\\PythonSoftwareFoundation.Python.3.11_qbz5n2kfra8p0\\LocalCache\\local-packages\\Python311\\site-packages\\keras\\src\\layers\\convolutional\\base_conv.py:99: UserWarning: Do not pass an `input_shape`/`input_dim` argument to a layer. When using Sequential models, prefer using an `Input(shape)` object as the first layer in the model instead.\n",
      "  super().__init__(\n"
     ]
    }
   ],
   "source": [
    "# SHALLOW NETWORK\n",
    "\n",
    "classifier = Sequential()\n",
    "\n",
    "classifier.add(Conv2D(32, (3,3), input_shape = (512, 512, 3), activation = 'relu'))\n",
    "classifier.add(BatchNormalization())\n",
    "classifier.add(MaxPooling2D(pool_size = (2,2)))\n",
    "\n",
    "classifier.add(Conv2D(32, (3,3), activation = 'relu'))\n",
    "classifier.add(BatchNormalization())\n",
    "classifier.add(MaxPooling2D(pool_size = (2,2)))\n",
    "\n",
    "classifier.add(Flatten())\n",
    "\n",
    "classifier.add(Dense(units = 128, activation = 'relu'))\n",
    "classifier.add(Dropout(0.2))\n",
    "classifier.add(Dense(units = 128, activation = 'relu'))\n",
    "classifier.add(Dropout(0.2))\n",
    "classifier.add(Dense(units = 1, activation = 'sigmoid'))\n",
    "\n",
    "classifier.compile(loss = 'binary_crossentropy', optimizer = 'adam', metrics = ['accuracy'])"
   ]
  },
  {
   "cell_type": "code",
   "execution_count": 8,
   "metadata": {},
   "outputs": [
    {
     "name": "stdout",
     "output_type": "stream",
     "text": [
      "WARNING:tensorflow:From c:\\Users\\marci\\AppData\\Local\\Programs\\Python\\Python311\\Lib\\site-packages\\keras\\src\\backend.py:873: The name tf.get_default_graph is deprecated. Please use tf.compat.v1.get_default_graph instead.\n",
      "\n",
      "WARNING:tensorflow:From c:\\Users\\marci\\AppData\\Local\\Programs\\Python\\Python311\\Lib\\site-packages\\keras\\src\\layers\\pooling\\max_pooling2d.py:161: The name tf.nn.max_pool is deprecated. Please use tf.nn.max_pool2d instead.\n",
      "\n",
      "WARNING:tensorflow:From c:\\Users\\marci\\AppData\\Local\\Programs\\Python\\Python311\\Lib\\site-packages\\keras\\src\\optimizers\\__init__.py:309: The name tf.train.Optimizer is deprecated. Please use tf.compat.v1.train.Optimizer instead.\n",
      "\n"
     ]
    }
   ],
   "source": [
    "# ALEXNET\n",
    "\n",
    "model = Sequential()\n",
    "\n",
    "model.add(Conv2D(96, (11, 11), strides=4, activation='relu', input_shape = (512, 512, 3), padding='valid'))\n",
    "model.add(MaxPooling2D(pool_size=(3, 3), strides=2))\n",
    "    \n",
    "model.add(Conv2D(256, (5, 5), strides=1, activation='relu', padding='same'))\n",
    "model.add(MaxPooling2D(pool_size=(3, 3), strides=2))\n",
    "    \n",
    "model.add(Conv2D(384, (3, 3), strides=1, activation='relu', padding='same'))\n",
    "    \n",
    "model.add(Conv2D(384, (3, 3), strides=1, activation='relu', padding='same'))\n",
    "    \n",
    "model.add(Conv2D(256, (3, 3), strides=1, activation='relu', padding='same'))\n",
    "model.add(MaxPooling2D(pool_size=(3, 3), strides=2))\n",
    "    \n",
    "model.add(Flatten())\n",
    "model.add(Dense(4096, activation='relu'))\n",
    "model.add(Dropout(0.5))\n",
    "model.add(Dense(4096, activation='relu'))\n",
    "model.add(Dropout(0.5))\n",
    "model.add(Dense(units = 1, activation = 'sigmoid'))\n",
    "\n",
    "model.compile(loss = 'binary_crossentropy', optimizer = 'adam', metrics = ['accuracy'])"
   ]
  },
  {
   "cell_type": "code",
   "execution_count": 10,
   "metadata": {},
   "outputs": [
    {
     "name": "stderr",
     "output_type": "stream",
     "text": [
      "C:\\Users\\marci\\AppData\\Local\\Temp\\ipykernel_7028\\2331232953.py:3: UserWarning: `input_shape` is undefined or non-square, or `rows` is not in [96, 128, 160, 192, 224]. Weights for input shape (224, 224) will be loaded as the default.\n",
      "  base_model = tf.keras.applications.MobileNetV2(input_shape=(512, 512, 3),\n"
     ]
    }
   ],
   "source": [
    "# MOBILE NET PRÉ-TREINADO\n",
    "\n",
    "base_model = tf.keras.applications.MobileNetV2(input_shape=(512, 512, 3),\n",
    "                                               include_top=False,\n",
    "                                               weights='imagenet')\n",
    "\n",
    "base_model.trainable = False  # Congelar as camadas do modelo base\n",
    "\n",
    "model2 = models.Sequential([\n",
    "    base_model,\n",
    "    layers.GlobalAveragePooling2D(),\n",
    "    layers.Dense(1024, activation='relu'),\n",
    "    layers.Dropout(0.5),\n",
    "    layers.Dense(1, activation='sigmoid')\n",
    "])\n",
    "\n",
    "model2.compile(optimizer=optimizers.Adam(learning_rate=0.001),\n",
    "              loss=losses.CategoricalCrossentropy(from_logits=True),\n",
    "              metrics=['accuracy'])"
   ]
  },
  {
   "cell_type": "code",
   "execution_count": 9,
   "metadata": {},
   "outputs": [
    {
     "name": "stdout",
     "output_type": "stream",
     "text": [
      "Epoch 1/30\n",
      "WARNING:tensorflow:From c:\\Users\\marci\\AppData\\Local\\Programs\\Python\\Python311\\Lib\\site-packages\\keras\\src\\utils\\tf_utils.py:492: The name tf.ragged.RaggedTensorValue is deprecated. Please use tf.compat.v1.ragged.RaggedTensorValue instead.\n",
      "\n",
      "WARNING:tensorflow:From c:\\Users\\marci\\AppData\\Local\\Programs\\Python\\Python311\\Lib\\site-packages\\keras\\src\\engine\\base_layer_utils.py:384: The name tf.executing_eagerly_outside_functions is deprecated. Please use tf.compat.v1.executing_eagerly_outside_functions instead.\n",
      "\n",
      "69/69 [==============================] - 362s 5s/step - loss: 1.3679 - accuracy: 0.5000 - val_loss: 0.6952 - val_accuracy: 0.4945\n",
      "Epoch 2/30\n",
      "69/69 [==============================] - 339s 5s/step - loss: 0.6937 - accuracy: 0.5000 - val_loss: 0.6932 - val_accuracy: 0.5055\n",
      "Epoch 3/30\n",
      "69/69 [==============================] - 342s 5s/step - loss: 0.6940 - accuracy: 0.4923 - val_loss: 0.6931 - val_accuracy: 0.5055\n",
      "Epoch 4/30\n",
      "69/69 [==============================] - 341s 5s/step - loss: 0.6941 - accuracy: 0.4759 - val_loss: 0.6931 - val_accuracy: 0.5055\n",
      "Epoch 5/30\n",
      "69/69 [==============================] - 336s 5s/step - loss: 0.6941 - accuracy: 0.4631 - val_loss: 0.6932 - val_accuracy: 0.4945\n",
      "Epoch 6/30\n",
      "69/69 [==============================] - 332s 5s/step - loss: 0.6934 - accuracy: 0.4945 - val_loss: 0.6931 - val_accuracy: 0.4945\n",
      "Epoch 7/30\n",
      "69/69 [==============================] - 334s 5s/step - loss: 0.6934 - accuracy: 0.4895 - val_loss: 0.6933 - val_accuracy: 0.4945\n",
      "Epoch 8/30\n",
      "69/69 [==============================] - 336s 5s/step - loss: 0.6935 - accuracy: 0.4795 - val_loss: 0.6931 - val_accuracy: 0.5055\n",
      "Epoch 9/30\n",
      "69/69 [==============================] - 334s 5s/step - loss: 0.6932 - accuracy: 0.5064 - val_loss: 0.6931 - val_accuracy: 0.5055\n",
      "Epoch 10/30\n",
      "69/69 [==============================] - 335s 5s/step - loss: 0.6934 - accuracy: 0.4932 - val_loss: 0.6931 - val_accuracy: 0.5055\n",
      "Epoch 11/30\n",
      "69/69 [==============================] - 340s 5s/step - loss: 0.6934 - accuracy: 0.4932 - val_loss: 0.6931 - val_accuracy: 0.5055\n",
      "Epoch 12/30\n",
      "69/69 [==============================] - 335s 5s/step - loss: 0.6934 - accuracy: 0.5023 - val_loss: 0.6933 - val_accuracy: 0.4945\n",
      "Epoch 13/30\n",
      "69/69 [==============================] - 335s 5s/step - loss: 0.6929 - accuracy: 0.5128 - val_loss: 0.6931 - val_accuracy: 0.4945\n",
      "Epoch 14/30\n",
      "69/69 [==============================] - 337s 5s/step - loss: 0.6933 - accuracy: 0.5041 - val_loss: 0.6933 - val_accuracy: 0.4945\n",
      "Epoch 15/30\n",
      "69/69 [==============================] - 336s 5s/step - loss: 0.6934 - accuracy: 0.5023 - val_loss: 0.6935 - val_accuracy: 0.4945\n",
      "Epoch 16/30\n",
      "69/69 [==============================] - 335s 5s/step - loss: 0.6940 - accuracy: 0.4936 - val_loss: 0.6933 - val_accuracy: 0.4945\n",
      "Epoch 17/30\n",
      "69/69 [==============================] - 336s 5s/step - loss: 0.6939 - accuracy: 0.4745 - val_loss: 0.6932 - val_accuracy: 0.4945\n",
      "Epoch 18/30\n",
      "69/69 [==============================] - 336s 5s/step - loss: 0.6935 - accuracy: 0.4800 - val_loss: 0.6932 - val_accuracy: 0.4945\n",
      "Epoch 19/30\n",
      "69/69 [==============================] - 334s 5s/step - loss: 0.6936 - accuracy: 0.5046 - val_loss: 0.6933 - val_accuracy: 0.4945\n",
      "Epoch 20/30\n",
      "69/69 [==============================] - 334s 5s/step - loss: 0.6932 - accuracy: 0.4995 - val_loss: 0.6931 - val_accuracy: 0.5055\n",
      "Epoch 21/30\n",
      "69/69 [==============================] - 339s 5s/step - loss: 0.6937 - accuracy: 0.5068 - val_loss: 0.6931 - val_accuracy: 0.5055\n",
      "Epoch 22/30\n",
      "69/69 [==============================] - 336s 5s/step - loss: 0.6933 - accuracy: 0.5100 - val_loss: 0.6932 - val_accuracy: 0.4945\n",
      "Epoch 23/30\n",
      "69/69 [==============================] - 336s 5s/step - loss: 0.6934 - accuracy: 0.4941 - val_loss: 0.6932 - val_accuracy: 0.4945\n",
      "Epoch 24/30\n",
      "69/69 [==============================] - 334s 5s/step - loss: 0.6929 - accuracy: 0.5182 - val_loss: 0.6931 - val_accuracy: 0.5055\n",
      "Epoch 25/30\n",
      "69/69 [==============================] - 334s 5s/step - loss: 0.6934 - accuracy: 0.4977 - val_loss: 0.6932 - val_accuracy: 0.4945\n",
      "Epoch 26/30\n",
      "69/69 [==============================] - 334s 5s/step - loss: 0.6937 - accuracy: 0.4904 - val_loss: 0.6932 - val_accuracy: 0.4945\n",
      "Epoch 27/30\n",
      "69/69 [==============================] - 334s 5s/step - loss: 0.6937 - accuracy: 0.4781 - val_loss: 0.6932 - val_accuracy: 0.4945\n",
      "Epoch 28/30\n",
      "69/69 [==============================] - 336s 5s/step - loss: 0.6937 - accuracy: 0.4845 - val_loss: 0.6931 - val_accuracy: 0.5055\n",
      "Epoch 29/30\n",
      "69/69 [==============================] - 337s 5s/step - loss: 0.6935 - accuracy: 0.5018 - val_loss: 0.6932 - val_accuracy: 0.4945\n",
      "Epoch 30/30\n",
      "69/69 [==============================] - 333s 5s/step - loss: 0.6935 - accuracy: 0.4827 - val_loss: 0.6931 - val_accuracy: 0.5055\n"
     ]
    },
    {
     "data": {
      "text/plain": [
       "<keras.src.callbacks.History at 0x25e95eaba10>"
      ]
     },
     "execution_count": 9,
     "metadata": {},
     "output_type": "execute_result"
    }
   ],
   "source": [
    "# TREINO ALEXNET\n",
    "\n",
    "board = TensorBoard(log_dir='./logs30AlexSubset50x50')\n",
    "model.fit(dataTrain, classTrain, batch_size = 32, epochs = 30, validation_data = (dataTest, classTest), callbacks=[board])"
   ]
  },
  {
   "cell_type": "code",
   "execution_count": null,
   "metadata": {},
   "outputs": [],
   "source": [
    "board2 = TensorBoard(log_dir='./logsShallow')\n",
    "classifier.fit(dataTrain, classTrain, batch_size = 32, epochs = 10, validation_data = (dataTest, classTest), callbacks=[board2])"
   ]
  },
  {
   "cell_type": "code",
   "execution_count": null,
   "metadata": {},
   "outputs": [],
   "source": [
    "board3 = TensorBoard(log_dir='./logsMobile')\n",
    "model2.fit(dataTrain, classTrain, batch_size = 32, epochs = 10, validation_data = (dataTest, classTest), callbacks=[board3])\n"
   ]
  },
  {
   "cell_type": "code",
   "execution_count": 10,
   "metadata": {},
   "outputs": [],
   "source": [
    "model.save_weights('AlexNet30Subset50x50.weights.h5')\n",
    "#model2.save_weights('mobileNet10ep.weights.h5')\n",
    "#classifier.save_weights('shallownet.weights.h5')"
   ]
  },
  {
   "cell_type": "code",
   "execution_count": 5,
   "metadata": {},
   "outputs": [
    {
     "name": "stderr",
     "output_type": "stream",
     "text": [
      "C:\\Users\\marci\\AppData\\Local\\Packages\\PythonSoftwareFoundation.Python.3.11_qbz5n2kfra8p0\\LocalCache\\local-packages\\Python311\\site-packages\\keras\\src\\saving\\saving_lib.py:396: UserWarning: Skipping variable loading for optimizer 'adam', because it has 2 variables whereas the saved optimizer has 34 variables. \n",
      "  trackable.load_own_variables(weights_store.get(inner_path))\n",
      "C:\\Users\\marci\\AppData\\Local\\Packages\\PythonSoftwareFoundation.Python.3.11_qbz5n2kfra8p0\\LocalCache\\local-packages\\Python311\\site-packages\\keras\\src\\saving\\saving_lib.py:396: UserWarning: Skipping variable loading for optimizer 'adam', because it has 2 variables whereas the saved optimizer has 30 variables. \n",
      "  trackable.load_own_variables(weights_store.get(inner_path))\n"
     ]
    }
   ],
   "source": [
    "# Carregando pesos\n",
    "\n",
    "model.load_weights('AlexNet10ep.weights.h5')\n",
    "classifier.load_weights('shallownet.weights.h5')"
   ]
  },
  {
   "cell_type": "code",
   "execution_count": 67,
   "metadata": {},
   "outputs": [
    {
     "name": "stdout",
     "output_type": "stream",
     "text": [
      "160/160 [==============================] - 164s 991ms/step\n"
     ]
    }
   ],
   "source": [
    "npData = np.array(data)\n",
    "alexPredict = model.predict(npData)\n",
    "#shallowPredict = classifier.predict(npData)\n"
   ]
  },
  {
   "cell_type": "code",
   "execution_count": 68,
   "metadata": {},
   "outputs": [
    {
     "name": "stdout",
     "output_type": "stream",
     "text": [
      "[[0.8320737]\n",
      " [0.8259779]\n",
      " [0.8212664]\n",
      " ...\n",
      " [0.8033839]\n",
      " [0.8216767]\n",
      " [0.7940623]]\n",
      "-----------------\n"
     ]
    }
   ],
   "source": [
    "npAlex = np.array(alexPredict)\n",
    "#npShallow = np.array(shallowPredict)\n",
    "\n",
    "print(npAlex)\n",
    "print('-----------------')\n",
    "#print(npShallow)"
   ]
  },
  {
   "cell_type": "code",
   "execution_count": 69,
   "metadata": {},
   "outputs": [],
   "source": [
    "AlexClass = (npAlex >= 0.5).astype(int)\n",
    "#ShallowClass = (npShallow >= 0.5).astype(int)"
   ]
  },
  {
   "cell_type": "code",
   "execution_count": 71,
   "metadata": {},
   "outputs": [
    {
     "name": "stdout",
     "output_type": "stream",
     "text": [
      "[1 1 1 ... 1 1 1]\n"
     ]
    }
   ],
   "source": [
    "AlexClass = np.ravel(AlexClass)\n",
    "#ShallowClass = np.ravel(ShallowClass)\n",
    "print(AlexClass)\n",
    "#print(ShallowClass)"
   ]
  },
  {
   "cell_type": "code",
   "execution_count": 60,
   "metadata": {},
   "outputs": [
    {
     "name": "stdout",
     "output_type": "stream",
     "text": [
      "alex 5100\n",
      "shallow 3559\n"
     ]
    }
   ],
   "source": [
    "count = 0\n",
    "count2 = 0\n",
    "for i in range(len(AlexClass)):\n",
    "    if AlexClass[i] == 1:\n",
    "        count += 1\n",
    "    \n",
    "    if ShallowClass[i] == 1:\n",
    "        count2 += 1\n",
    "\n",
    "print('alex',count)\n",
    "print('shallow',count2)"
   ]
  }
 ],
 "metadata": {
  "kernelspec": {
   "display_name": "Python 3",
   "language": "python",
   "name": "python3"
  },
  "language_info": {
   "codemirror_mode": {
    "name": "ipython",
    "version": 3
   },
   "file_extension": ".py",
   "mimetype": "text/x-python",
   "name": "python",
   "nbconvert_exporter": "python",
   "pygments_lexer": "ipython3",
   "version": "3.11.4"
  }
 },
 "nbformat": 4,
 "nbformat_minor": 2
}
