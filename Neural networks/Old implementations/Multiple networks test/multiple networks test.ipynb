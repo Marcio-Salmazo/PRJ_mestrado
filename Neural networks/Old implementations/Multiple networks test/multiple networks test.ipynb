{
 "cells": [
  {
   "cell_type": "code",
   "execution_count": 1,
   "metadata": {},
   "outputs": [
    {
     "name": "stdout",
     "output_type": "stream",
     "text": [
      "WARNING:tensorflow:From c:\\Users\\marci\\AppData\\Local\\Programs\\Python\\Python311\\Lib\\site-packages\\keras\\src\\losses.py:2976: The name tf.losses.sparse_softmax_cross_entropy is deprecated. Please use tf.compat.v1.losses.sparse_softmax_cross_entropy instead.\n",
      "\n"
     ]
    }
   ],
   "source": [
    "from keras.models import Sequential  \n",
    "from keras.layers import Dense, Flatten, Conv2D, MaxPooling2D, BatchNormalization, Dropout\n",
    "from keras import layers, models, optimizers, losses\n",
    "import tensorflow as tf\n",
    "from tensorflow.keras.callbacks import TensorBoard\n",
    "from sklearn.model_selection import train_test_split\n",
    "import numpy as np\n",
    "import pandas as pd\n",
    "import matplotlib.pyplot as plt\n",
    "import cv2 \n",
    "import os \n",
    "import glob"
   ]
  },
  {
   "cell_type": "code",
   "execution_count": 2,
   "metadata": {},
   "outputs": [
    {
     "name": "stdout",
     "output_type": "stream",
     "text": [
      "5100\n",
      "(5100, 1)\n"
     ]
    }
   ],
   "source": [
    "# CARREGAMENTO DOS DATASETS\n",
    "\n",
    "''' \n",
    "    Carregando a pasta de imagens (Dataset dos ovos)\n",
    "    * A função glob encontra todos os nomes de caminhos que correspondem a um padrão \n",
    "      especificado de acordo com as regras usadas pelo shell Unix\n",
    "\n",
    "    * Para cada um dos arquivos encontrados é feita a leitura\n",
    "      do arquivo .jpg (imagem), as imagens lidas são armazenadas\n",
    "      na lista 'data'\n",
    "'''\n",
    "img_dir = \"C:/Users/marci/Desktop/Projeto mestrado/Images Dataset/Batch 06.04 Images\"\n",
    "data_path = os.path.join(img_dir,'*g') \n",
    "\n",
    "folder = glob.glob(data_path) \n",
    "data = [] \n",
    "for files in folder: \n",
    "    img = cv2.imread(files) \n",
    "    data.append(img) \n",
    "\n",
    "'''   \n",
    "    Carregando e tratando o arquivo CSV\n",
    "'''\n",
    "eggClass = pd.read_csv(\"RealData.csv\")\n",
    "cList = eggClass.to_numpy()\n",
    "\n",
    "print(len(data))\n",
    "print(cList.shape)"
   ]
  },
  {
   "cell_type": "code",
   "execution_count": 4,
   "metadata": {},
   "outputs": [
    {
     "name": "stdout",
     "output_type": "stream",
     "text": [
      "[1, 5, 12, 14, 18, 20, 33, 43, 45, 57, 60, 61, 62, 68, 74, 75, 76, 79, 87, 88, 90, 92, 97, 103, 109, 112, 113, 114, 116, 123, 126, 136, 138, 141, 144, 145, 148, 149, 154, 156, 157, 165, 172, 185, 186, 192, 194, 199, 201, 206, 210, 216, 220, 222, 223, 225, 230, 231, 232, 236, 240, 241, 244, 247, 248, 253, 255, 257, 258, 266, 270, 271, 276, 283, 285, 289, 297, 298, 303, 306, 316, 331, 343, 349, 353, 355, 356, 360, 365, 366, 368, 369, 371, 372, 379, 390, 391, 397, 405, 410, 414, 416, 418, 420, 421, 438, 439, 442, 444, 445, 446, 447, 448, 449, 451, 454, 456, 457, 459, 467, 469, 473, 474, 479, 482, 485, 486, 488, 489, 493, 500, 510, 514, 515, 522, 523, 524, 527, 529, 534, 537, 538, 548, 554, 565, 568, 571, 572, 581, 583, 588, 590, 597, 598, 603, 608, 610, 612, 616, 617, 618, 620, 621, 624, 625, 626, 628, 635, 638, 641, 643, 645, 646, 647, 653, 654, 656, 662, 668, 672, 678, 682, 689, 692, 695, 697, 700, 706, 707, 711, 715, 720, 721, 739, 741, 744, 750, 752, 754, 757, 759, 760, 761, 762, 774, 779, 782, 784, 786, 789, 791, 797, 800, 804, 819, 823, 830, 834, 836, 839, 840, 841, 844, 848, 861, 863, 864, 867, 869, 872, 874, 875, 878, 879, 883, 884, 887, 888, 889, 893, 895, 898, 903, 907, 908, 911, 918, 923, 925, 929, 936, 938, 940, 947, 960, 966, 967, 968, 976, 979, 987, 1005, 1010, 1011, 1018, 1019, 1021, 1022, 1028, 1030, 1032, 1034, 1037, 1043, 1047, 1049, 1050, 1053, 1062, 1063, 1068, 1072, 1077, 1078, 1083, 1088, 1094, 1097, 1102, 1106, 1117, 1124, 1130, 1133, 1136, 1137, 1140, 1143, 1147, 1148, 1150, 1151, 1162, 1166, 1175, 1177, 1180, 1185, 1187, 1189, 1198, 1200, 1203, 1212, 1216, 1220, 1225, 1226, 1229, 1230, 1231, 1235, 1236, 1238, 1240, 1243, 1249, 1250, 1253, 1254, 1255, 1285, 1286, 1293, 1294, 1299, 1304, 1308, 1310, 1311, 1312, 1314, 1319, 1324, 1325, 1327, 1328, 1335, 1339, 1343, 1346, 1348, 1353, 1362, 1364, 1374, 1377, 1383, 1395, 1399, 1400, 1405, 1406, 1407, 1409, 1414, 1419, 1427, 1442, 1443, 1446, 1449, 1459, 1462, 1467, 1470, 1471, 1474, 1482, 1486, 1489, 1494, 1499, 1502, 1520, 1523, 1524, 1529, 1533, 1535, 1546, 1547, 1548, 1559, 1563, 1564, 1568, 1571, 1575, 1578, 1589, 1593, 1599, 1602, 1605, 1611, 1613, 1614, 1621, 1622, 1627, 1633, 1636, 1639, 1641, 1642, 1643, 1646, 1649, 1655, 1658, 1661, 1666, 1672, 1675, 1678, 1692, 1706, 1708, 1709, 1712, 1713, 1720, 1721, 1744, 1758, 1770, 1777, 1782, 1785, 1786, 1787, 1791, 1796, 1799, 1800, 1808, 1813, 1814, 1817, 1819, 1820, 1826, 1834, 1838, 1842, 1845, 1852, 1854, 1874, 1875, 1877, 1879, 1891, 1896, 1905, 1913, 1926, 1937, 1938, 1946, 1951, 1955, 1956, 1961, 1962, 1964, 1965, 1969, 1971, 1975, 1977, 1979, 1989, 1995, 2004, 2006, 2012, 2015, 2017, 2020, 2026, 2027, 2028, 2032, 2035, 2036, 2038, 2039, 2041, 2043, 2053, 2057, 2064, 2072, 2073, 2088, 2090, 2094, 2107, 2109, 2116, 2122, 2128, 2132, 2140, 2142, 2148, 2151, 2172, 2177, 2178, 2179, 2183, 2188, 2196, 2202, 2208, 2209, 2210, 2219, 2223, 2230, 2234, 2239, 2241, 2242, 2252, 2257, 2258, 2259, 2261, 2263, 2264, 2268, 2270, 2273, 2274, 2278, 2280, 2285, 2286, 2297, 2302, 2316, 2319, 2320, 2323, 2326, 2330, 2331, 2333, 2344, 2345, 2353, 2357, 2359, 2369, 2370, 2373, 2374, 2378, 2382, 2383, 2384, 2389, 2393, 2398, 2399, 2401, 2402, 2404, 2408, 2418, 2421, 2422, 2428, 2434, 2435, 2436, 2438, 2439, 2440, 2444, 2447, 2450, 2453, 2456, 2466, 2470, 2476, 2481, 2483, 2486, 2494, 2496, 2497, 2499, 2501, 2503, 2510, 2512, 2513, 2514, 2517, 2524, 2528, 2529, 2530, 2532, 2533, 2534, 2541, 2549, 2552, 2558, 2560, 2569, 2577, 2584, 2585, 2589, 2591, 2599, 2600, 2605, 2615, 2626, 2633, 2642, 2645, 2655, 2657, 2660, 2665, 2667, 2672, 2673, 2674, 2675, 2681, 2686, 2690, 2692, 2694, 2707, 2711, 2713, 2719, 2724, 2727, 2729, 2730, 2731, 2732, 2738, 2741, 2747, 2753, 2756, 2757, 2759, 2765, 2773, 2776, 2777, 2778, 2779, 2780, 2783, 2787, 2789, 2792, 2794, 2797, 2800, 2805, 2806, 2807, 2809, 2811, 2814, 2818, 2820, 2822, 2827, 2835, 2840, 2845, 2849, 2851, 2856, 2859, 2862, 2867, 2868, 2873, 2875, 2878, 2887, 2891, 2896, 2900, 2902, 2905, 2914, 2919, 2920, 2921, 2928, 2929, 2930, 2936, 2939, 2949, 2957, 2960, 2962, 2963, 2968, 2974, 2975, 2982, 2985, 2987, 2988, 2990, 2991, 2993, 2996, 3000, 3002, 3006, 3007, 3011, 3012, 3014, 3018, 3022, 3023, 3029, 3030, 3032, 3034, 3037, 3038, 3043, 3048, 3054, 3057, 3059, 3070, 3073, 3074, 3079, 3081, 3082, 3083, 3084, 3086, 3087, 3089, 3092, 3095, 3097, 3098, 3100, 3102, 3106, 3109, 3113, 3114, 3117, 3118, 3120, 3129, 3136, 3138, 3141, 3144, 3147, 3154, 3156, 3157, 3158, 3160, 3164, 3167, 3169, 3172, 3174, 3176, 3178, 3187, 3192, 3194, 3205, 3207, 3212, 3214, 3215, 3216, 3218, 3219, 3221, 3229, 3232, 3236, 3239, 3240, 3243, 3244, 3246, 3255, 3256, 3260, 3264, 3269, 3271, 3274, 3277, 3279, 3280, 3289, 3292, 3293, 3294, 3296, 3297, 3298, 3299, 3301, 3303, 3306, 3313, 3316, 3322, 3330, 3336, 3337, 3338, 3339, 3341, 3353, 3354, 3356, 3359, 3361, 3363, 3367, 3370, 3378, 3380, 3385, 3386, 3387, 3389, 3393, 3400, 3406, 3409, 3411, 3414, 3416, 3417, 3420, 3425, 3427, 3428, 3436, 3437, 3439, 3443, 3447, 3451, 3452, 3455, 3470, 3488, 3490, 3494, 3496, 3497, 3498, 3501, 3509, 3520, 3521, 3527, 3529, 3532, 3533, 3536, 3537, 3540, 3541, 3544, 3548, 3551, 3553, 3556, 3559, 3560, 3561, 3564, 3565, 3574, 3588, 3591, 3597, 3602, 3607, 3609, 3616, 3618, 3622, 3624, 3630, 3631, 3632, 3633, 3634, 3635, 3638, 3642, 3647, 3651, 3654, 3660, 3661, 3667, 3673, 3674, 3681, 3700, 3702, 3706, 3710, 3711, 3717, 3719, 3720, 3723, 3724, 3725, 3728, 3729, 3731, 3734, 3738, 3740, 3745, 3754, 3755, 3757, 3760, 3761, 3764, 3766, 3768, 3771, 3776, 3779, 3780, 3783, 3788, 3791, 3792, 3793, 3797, 3798, 3803, 3804, 3811, 3813, 3815, 3817, 3819, 3820, 3823, 3826, 3827, 3828, 3831, 3833, 3834, 3839, 3841, 3842, 3845, 3849, 3855, 3858, 3867, 3874, 3888, 3889, 3890, 3891, 3892, 3897, 3909, 3915, 3919, 3923, 3924, 3925, 3927, 3932, 3935, 3936, 3937, 3940, 3942, 3948, 3949, 3952, 3954, 3955, 3960, 3961, 3962, 3963, 3964, 3967, 3968, 3969, 3979, 3982, 3986, 3988, 3996, 3998, 3999, 4004, 4005, 4012, 4014, 4021, 4022, 4029, 4036, 4039, 4047, 4048, 4049, 4052, 4055, 4057, 4059, 4060, 4066, 4069, 4073, 4079, 4081, 4084, 4087, 4091, 4093, 4098, 4100, 4104, 4106, 4110, 4111, 4120, 4127, 4128, 4129, 4150, 4157, 4158, 4163, 4164, 4168, 4171, 4172, 4173, 4179, 4180, 4182, 4185, 4189, 4193, 4195, 4196, 4199, 4200, 4205, 4206, 4214, 4215, 4216, 4218, 4221, 4224, 4228, 4233, 4236, 4237, 4242, 4246, 4258, 4259, 4264, 4268, 4269, 4284, 4290, 4304, 4307, 4308, 4312, 4313, 4314, 4316, 4318, 4319, 4320, 4321, 4323, 4329, 4332, 4333, 4337, 4338, 4341, 4343, 4345, 4346, 4350, 4355, 4359, 4362, 4364, 4366, 4367, 4370, 4371, 4372, 4373, 4380, 4387, 4395, 4396, 4403, 4405, 4411, 4413, 4423, 4425, 4428, 4430, 4438, 4439, 4440, 4448, 4451, 4452, 4467, 4469, 4473, 4482, 4484, 4485, 4486, 4488, 4489, 4491, 4494, 4495, 4498, 4501, 4502, 4503, 4505, 4506, 4507, 4510, 4511, 4514, 4519, 4520, 4521, 4523, 4525, 4529, 4532, 4537, 4542, 4546, 4547, 4548, 4550, 4552, 4553, 4558, 4572, 4574, 4576, 4578, 4585, 4588, 4590, 4592, 4594, 4598, 4600, 4603, 4611, 4612, 4613, 4615, 4622, 4623, 4625, 4628, 4629, 4630, 4634, 4635, 4642, 4646, 4647, 4654, 4655, 4656, 4658, 4660, 4664, 4668, 4669, 4673, 4674, 4678, 4682, 4683, 4689, 4692, 4699, 4700, 4704, 4707, 4712, 4717, 4718, 4720, 4722, 4724, 4726, 4727, 4731, 4734, 4735, 4738, 4743, 4758, 4762, 4763, 4765, 4776, 4778, 4779, 4780, 4783, 4789, 4792, 4795, 4797, 4798, 4799, 4801, 4802, 4804, 4805, 4806, 4807, 4809, 4813, 4814, 4817, 4821, 4823, 4835, 4836, 4837, 4842, 4845, 4852, 4855, 4861, 4864, 4870, 4872, 4873, 4876, 4878, 4880, 4881, 4888, 4894, 4898, 4899, 4900, 4903, 4904, 4905, 4907, 4910, 4911, 4912, 4914, 4917, 4922, 4924, 4929, 4942, 4945, 4946, 4950, 4954, 4955, 4958, 4959, 4960, 4972, 4978, 4983, 4984, 4985, 4987, 4989, 4993, 4994, 5006, 5009, 5012, 5016, 5019, 5022, 5025, 5027, 5030, 5033, 5038, 5041, 5045, 5046, 5052, 5053, 5055, 5057, 5067, 5074, 5080, 5081, 5084, 5087, 5089, 5091, 5092, 5095, 520, 4695, 2632, 3242, 2952, 2606, 1468, 1086, 1204, 2678, 4038, 880, 1982, 2754, 2978, 1540, 361, 3868, 2354, 1434, 4723, 1469, 2052, 2121, 2362, 3067, 3876, 4952, 4832, 2785, 1538, 743, 3641, 2441, 3663, 4181, 1149, 521, 3708, 3325, 862, 4053, 2525, 3933, 679, 2087, 4015, 1768, 2995, 5073, 3950, 3592, 89, 1829, 950, 1125, 26, 4197, 825, 843, 4152, 2153, 3956, 3008, 4162, 2163, 1890, 1811, 1322, 4077, 3693, 1914, 2462, 1872, 1866, 4941, 4859, 2458, 5093, 4577, 251, 1583, 436, 517, 3759, 4468, 1881, 1168, 1171, 2764, 2521, 1742, 4401, 3751, 3398, 636, 1119, 3829, 296, 347, 221, 2414, 2463, 2790, 2709, 3575, 1573, 1035, 13, 1061, 3860, 399, 1949, 2309, 4513, 4286, 462, 845, 793, 5065, 1098, 1121, 4001, 3252, 127, 740, 2299, 1776, 4400, 2877, 1085, 4589, 274, 2561, 4889, 1076, 3401, 3332, 333, 4368, 433, 413, 4141, 2385, 3259, 4847, 2885, 704, 4477, 2509, 460, 2647, 2129, 2879, 4174, 2762, 1716, 267, 1317, 1303, 4076, 642, 2945, 2826, 492, 11, 5077, 2808, 2265, 2750, 4736, 3879, 3069, 4997, 1424, 4644, 801, 1295, 2050, 3075, 770, 2740, 902, 4420, 4684, 2706, 4886, 3261, 1104, 3579, 3001, 3441, 1919, 3198, 1287, 1214, 2136, 2292, 4139, 37, 1087, 2704, 3119, 2247, 4581, 1552, 3802, 4919, 3373, 722, 5023, 985, 2118, 1305, 110, 2029, 322, 4515, 1281, 434, 1545, 560, 1363, 2085, 1850, 4240, 4024, 3810, 471, 263, 1587, 2180, 3809, 2157, 586, 376, 1017, 3639, 5007, 3213, 798, 260, 4285, 1418, 4925, 820, 2312, 1182, 828, 2419, 3101, 1430, 4681, 16, 1648, 3475, 3500, 1059, 3601, 687, 4840, 3859, 4088, 4863, 2620, 1029, 3004, 4928, 1265, 550, 4645, 1463, 4509, 2472, 3399, 2454, 582, 2381, 2925, 1598, 311, 3558, 3419, 5060, 4142, 2181, 1369, 3050, 4524, 1722, 1635, 5082, 4831, 4719, 3382, 2194, 555, 4305, 3388, 4746, 764, 1534, 2106, 1674, 783, 2189, 2311, 671, 3321, 3585, 203, 4895, 602, 1105, 4429, 2352, 4582, 3974, 2927, 3722, 1531, 953, 1337, 2493, 2965, 66, 5099, 4883, 1556, 2870, 4017, 4464, 725, 2863, 1264, 1184, 104, 1757, 4998, 813, 991, 2468, 694, 3538, 3469, 383, 4711, 17, 2616, 1647, 915, 655, 1301, 2161, 1597, 742, 1064, 4624, 1315, 4693, 2511, 4042, 2371, 931, 1932, 453, 3152, 2008, 1963, 4773, 2624, 2457, 5061, 1680, 2243, 2664, 120, 714, 461, 4463, 3282, 3989, 975, 1772, 5072, 570, 3596, 615, 2850, 4085, 1567, 395, 1822, 4034, 2693, 1986, 494, 4363, 2653, 1507, 3683, 2214, 4282, 4956, 780, 1710, 1188, 2083, 3173, 4915, 4962, 909, 794, 2508, 5075, 818, 2221, 472, 2610, 4399, 337, 1695, 2618, 4691, 2289, 1263, 3615, 1112, 2691, 1001, 2858, 3477, 3898, 2908, 1704, 2159, 389, 4772, 551, 1272, 3977, 1645, 3137, 595, 2042, 290, 1058, 4918, 34, 4003, 1836, 4209, 5010, 1572, 3319, 4587, 516, 1417, 2825, 1452, 3705, 4294, 2145, 1472, 2169, 2911, 4653, 2461, 3170, 4803, 325, 2001, 3499, 1788, 2025, 4167, 3657, 569, 1532, 2852, 4279, 919, 2377, 4256, 4018, 2781, 1920, 4665, 4406, 1126, 3283, 4266, 336, 1160, 1357, 1398, 351, 4471, 2894, 41, 2019, 3840, 2112, 2888, 3865, 3973, 234, 1413, 5083, 209, 3390, 3476, 4633, 3886, 4186, 2329, 83, 4090, 3151, 4951, 3787, 955, 2717, 765, 1213, 1384, 2058, 1625, 2108, 71, 3825, 1871, 4056, 2603, 2838, 1728, 497, 2101, 3789, 4909, 661, 2520, 995, 3778, 3730, 1942, 4690, 3901, 3824, 965, 2133, 2482, 3217, 2336, 212, 3204, 4050, 703, 4062, 4531, 431, 1201, 3912, 3088, 3300, 1887, 3806, 2909, 2007, 4982, 4418, 2997, 2553, 227, 2348, 245, 2915, 5011, 4936, 4771, 354, 3535, 3945, 4336, 3695, 556, 291, 3258, 627, 1607, 3958, 3504, 1333, 2168, 3675, 2828, 4920, 4877, 2959, 4977, 3562, 2166, 403, 870, 52, 1479, 3323, 2916, 564, 4753, 4251, 587, 1527, 4568, 2325, 731, 1084, 2294, 2538, 3396, 228, 1027, 2912, 988, 2091, 1069, 2557, 2860, 2683, 3206, 2763, 3580, 1176, 115, 4414, 1368, 2187, 1847, 3696, 4390, 3966, 2906, 3208, 279, 4025, 2562, 2726, 850, 4358, 1719, 1576, 1779, 3770, 3315, 2279, 3747, 2966, 2593, 2715, 2652, 3767, 1109, 2069, 738, 3784, 4231, 2944, 1862, 3360, 3033, 118, 807, 693, 4526, 3838, 1566, 1081, 3265, 3438, 2964, 1090, 4327, 4265, 4019, 4202, 858, 4255, 1134, 4379, 2981, 2288, 4496, 4239, 611, 1972, 1206, 98, 4626, 3959, 4288, 4198, 4564, 4493, 999, 1967, 775, 4725, 4584, 2663, 1375, 307, 1210, 3142, 3691, 5040, 1512, 2218, 2089, 4089, 2830, 2817, 367, 4289, 317, 3036, 1718, 1321, 1733, 1307, 4220, 811, 3697, 125, 2317, 3818, 4020, 2291, 1075, 4583, 4976, 3257, 53, 4277, 495, 4834, 2070, 3042, 3713, 1271, 261, 1737, 2710, 2412, 1516, 904, 484, 2947, 312, 2953, 2834, 1139, 1411, 22, 3435, 2191, 3775, 886, 4887, 2338, 2146, 2688, 3357, 4874, 2594, 753, 2770, 2651, 219, 3377, 3423, 1251, 1247, 958, 3135, 2722, 2334, 2031, 3344, 4011, 3593, 286, 4885, 3790, 3278, 3526, 237, 699, 3362, 111, 2956, 4755, 3133, 1623, 2174, 4981, 851, 519, 3180, 4580, 749, 3051, 4078, 5024, 3576, 105, 2619, 437, 3171, 3223, 2771, 4926, 4640, 4124, 4445, 1574, 3662, 3525, 3750, 3679, 1370, 4741, 1342, 4117, 4369, 735, 1681, 3305, 1476, 4378, 4328, 505, 155, 2131, 2391, 2251, 4410, 2526, 2736, 4992, 2427, 1894, 1653, 2067, 512, 1727, 3112, 239, 2984, 4661, 1685, 5004, 1501, 1732, 4606, 4326, 1316, 3099, 2182, 249, 2110, 2567, 1610, 579, 4890, 2281, 526, 2479, 737, 3415, 3718, 2970, 2728, 826, 3085, 541, 4793, 2158, 3547, 1291, 3672, 1745, 1334, 1683, 3573, 4028, 487, 1907, 4786, 6, 3326, 3610, 163, 767, 1832, 3374, 1510, 4309, 5047, 1453, 323, 817, 2596, 856, 254, 2380, 4113, 4436, 4188, 1624, 2967, 681, 1600, 200, 1107, 100, 3450, 3699, 2048, 984, 2698, 1736, 2417, 1944, 4229, 1553, 387, 2186, 4522, 4621, 525, 1093, 3044, 4849, 2579, 2030, 1985, 3694, 4571, 2442, 4302, 3885, 2659, 531, 2045, 301, 2395, 946, 3850, 3430, 3454, 1700, 1751, 3484, 4775, 763, 4591, 4670, 1957, 4557, 2049, 1912, 2424, 101, 559, 3046, 4551, 4478, 3910, 1603, 3852, 1798, 954, 3220, 1669, 4426, 2014, 4787, 2973, 2629, 2075, 1278, 352, 273, 3003, 3847, 1170, 1901, 2104, 1194, 5031, 698, 4901, 1048, 4884, 2327, 1518, 5069, 4122, 2347, 629, 2490, 188, 1759, 1978, 3311, 3628, 1689, 3814, 4964, 528, 4961, 3637, 4790, 1801, 1973, 1055, 4828, 2201, 1748, 4222, 4916, 2650, 3664, 513, 1439, 2475, 4207, 824, 93, 1652, 466, 3186, 2138, 772, 3347, 3060, 3080, 187, 4672, 3210, 4175, 3227, 3976, 2240, 3139, 1051, 1451, 1209, 2296, 3328, 4906, 1738, 164, 4032, 3685, 3335, 4291, 4561, 712, 544, 1892, 4070, 3928, 2127, 4027, 2284, 652, 1739, 3222, 1804, 4135, 338, 2355, 3068, 4374, 161, 651, 5094, 1615, 1740, 4116, 821, 3395, 2474, 44, 716, 47, 4432, 916, 4153, 2614, 2554, 2752, 1724, 658, 933, 1260, 3020, 3247, 729, 4278, 1156, 3506, 2739, 3735, 1723, 4331, 4275, 2192, 4818, 3493, 385, 2639, 3653, 1135, 2137, 2855, 2086, 4586, 4499, 4747, 2746, 2547, 3613, 3275, 4335, 388, 3302, 2228, 3433, 3598, 535, 5020, 4068, 2635, 3781, 1233, 3659, 1717, 4858, 3626, 4187, 3650, 4272, 1350, 2595, 1827, 669, 3291, 1120, 3251, 4563, 1397, 2903, 3605, 3600, 562, 3899, 166, 1687, 4715, 2575, 1256, 1935, 4879, 2689, 3163, 0, 2687, 547, 1193, 3877, 3456, 664, 4749, 1899, 10, 1070, 281, 2044, 95, 9, 910, 2636, 1953, 4619, 4829, 3203, 806, 3944, 897, 2745, 491, 133, 2205, 441, 1581, 4388, 4565, 1003, 295, 381, 1283, 1922, 4966, 1806, 137, 1099, 2150, 2725, 4397, 3402, 2893, 4161, 4869, 684, 1360, 1960, 3132, 3703, 1780, 799, 574, 3921, 175, 2507, 2, 1079, 2897, 4457, 2518, 1110, 107, 4810, 3064, 4191, 4276, 480, 4160, 4933, 1497, 1385, 3442, 827, 1146, 3143, 3752, 1802, 4702, 1351, 2298, 1906, 4882, 386, 805, 328, 5064, 4450, 4223, 649, 2248, 4487, 2566, 1096, 46, 3161, 3365, 982, 803, 1129, 1268, 1246, 2195, 1391, 4165, 776, 2055, 1356, 1784, 849, 362, 677, 25, 594, 2898, 1609, 917, 3727, 3687, 169, 530, 153, 3111, 956, 673, 3287, 77, 5000, 4356, 2350, 4274, 2946, 359, 4409, 4245, 1164, 4281, 4761, 3031, 3698, 2648, 829, 4663, 2471, 2751, 4244, 1274, 939, 2543, 1797, 745, 4677, 2410, 2924, 2837, 1429, 4848, 139, 4685, 2046, 2367, 2607, 4530, 2437, 3397, 2095, 3516, 614, 348, 393, 4293, 2568, 3041, 1227, 2926, 2522, 224, 288, 746, 2010, 5059, 4631, 3489, 2846, 2761, 2922, 3522, 23, 2176, 3799, 1781, 3324, 1153]\n",
      "2746\n"
     ]
    }
   ],
   "source": [
    "subset = []\n",
    "values = []\n",
    "for i in range(len(cList)):\n",
    "    if cList[i] == 0:\n",
    "        subset.append(i)\n",
    "    if cList[i] == 1:\n",
    "        values.append(i)\n",
    "\n",
    "randomIndex = np.random.choice(values, 1373, replace=False)\n",
    "\n",
    "for j in range(len(randomIndex)):\n",
    "    subset.append(randomIndex[j])\n",
    "\n",
    "print(subset)\n",
    "print(len(subset))\n"
   ]
  },
  {
   "cell_type": "code",
   "execution_count": 5,
   "metadata": {},
   "outputs": [
    {
     "name": "stdout",
     "output_type": "stream",
     "text": [
      "1373\n",
      "1373\n"
     ]
    }
   ],
   "source": [
    "ct1 = 0\n",
    "ct2 = 0\n",
    "for z in range(len(subset)):\n",
    "    if cList[subset[z]] == 0:\n",
    "        ct1 += 1\n",
    "    if cList[subset[z]] == 1:\n",
    "        ct2 += 1\n",
    "    \n",
    "print(ct1)\n",
    "print(ct2)"
   ]
  },
  {
   "cell_type": "code",
   "execution_count": 6,
   "metadata": {},
   "outputs": [
    {
     "name": "stdout",
     "output_type": "stream",
     "text": [
      "img train 2196\n",
      "img test 550\n",
      "class train 2196\n",
      "class test 550\n"
     ]
    }
   ],
   "source": [
    "# Dataset Completo\n",
    "# Comentar seção caso não seja necessário\n",
    "\n",
    "#ind = np.arange(len(data))\n",
    "train, test = train_test_split(subset, test_size=0.2, random_state=42)\n",
    "\n",
    "#\n",
    "dataTrain = []\n",
    "dataTest = []\n",
    "classTrain = []\n",
    "classTest = []\n",
    "\n",
    "#\n",
    "for i in range(len(train)):\n",
    "\n",
    "    dataTrain.append(data[train[i]])\n",
    "    classTrain.append(cList[train[i]])\n",
    "\n",
    "for j in range(len(test)):\n",
    "\n",
    "    dataTest.append(data[test[j]])\n",
    "    classTest.append(cList[test[j]])\n",
    "\n",
    "#\n",
    "dataTrain = np.array(dataTrain)\n",
    "dataTest = np.array(dataTest)\n",
    "classTrain = np.array(classTrain)\n",
    "classTest = np.array(classTest)\n",
    "\n",
    "print('img train', len(dataTrain))\n",
    "print('img test', len(dataTest))\n",
    "print('class train', len(classTrain))\n",
    "print('class test', len(classTest))\n"
   ]
  },
  {
   "cell_type": "code",
   "execution_count": 7,
   "metadata": {},
   "outputs": [],
   "source": [
    "del data\n",
    "del cList\n",
    "del subset\n",
    "del values\n",
    "del randomIndex"
   ]
  },
  {
   "cell_type": "code",
   "execution_count": 8,
   "metadata": {},
   "outputs": [],
   "source": [
    "'''\n",
    "    Alterando o tipo dos dados para float32 a fim de aplicar \n",
    "    a normalização futuramente\n",
    "'''\n",
    "\n",
    "dataTrain = dataTrain.astype('float32')\n",
    "dataTest = dataTest.astype('float32')\n",
    "\n",
    "'''\n",
    "    Realizando a normalização (min/max normalization) a fim de que os valores dos pixels estejam\n",
    "    entre 0 e 1, tornando o processamento mais eficiente\n",
    "    obs: 255 é o valor máximo do pixel\n",
    "'''\n",
    "\n",
    "dataTrain /= 255\n",
    "dataTest /= 255"
   ]
  },
  {
   "cell_type": "code",
   "execution_count": 3,
   "metadata": {},
   "outputs": [
    {
     "name": "stderr",
     "output_type": "stream",
     "text": [
      "C:\\Users\\marci\\AppData\\Local\\Packages\\PythonSoftwareFoundation.Python.3.11_qbz5n2kfra8p0\\LocalCache\\local-packages\\Python311\\site-packages\\keras\\src\\layers\\convolutional\\base_conv.py:99: UserWarning: Do not pass an `input_shape`/`input_dim` argument to a layer. When using Sequential models, prefer using an `Input(shape)` object as the first layer in the model instead.\n",
      "  super().__init__(\n"
     ]
    }
   ],
   "source": [
    "# SHALLOW NETWORK\n",
    "\n",
    "classifier = Sequential()\n",
    "\n",
    "classifier.add(Conv2D(32, (3,3), input_shape = (512, 512, 3), activation = 'relu'))\n",
    "classifier.add(BatchNormalization())\n",
    "classifier.add(MaxPooling2D(pool_size = (2,2)))\n",
    "\n",
    "classifier.add(Conv2D(32, (3,3), activation = 'relu'))\n",
    "classifier.add(BatchNormalization())\n",
    "classifier.add(MaxPooling2D(pool_size = (2,2)))\n",
    "\n",
    "classifier.add(Flatten())\n",
    "\n",
    "classifier.add(Dense(units = 128, activation = 'relu'))\n",
    "classifier.add(Dropout(0.2))\n",
    "classifier.add(Dense(units = 128, activation = 'relu'))\n",
    "classifier.add(Dropout(0.2))\n",
    "classifier.add(Dense(units = 1, activation = 'sigmoid'))\n",
    "\n",
    "classifier.compile(loss = 'binary_crossentropy', optimizer = 'adam', metrics = ['accuracy'])"
   ]
  },
  {
   "cell_type": "code",
   "execution_count": 9,
   "metadata": {},
   "outputs": [
    {
     "name": "stdout",
     "output_type": "stream",
     "text": [
      "WARNING:tensorflow:From c:\\Users\\marci\\AppData\\Local\\Programs\\Python\\Python311\\Lib\\site-packages\\keras\\src\\backend.py:873: The name tf.get_default_graph is deprecated. Please use tf.compat.v1.get_default_graph instead.\n",
      "\n",
      "WARNING:tensorflow:From c:\\Users\\marci\\AppData\\Local\\Programs\\Python\\Python311\\Lib\\site-packages\\keras\\src\\layers\\pooling\\max_pooling2d.py:161: The name tf.nn.max_pool is deprecated. Please use tf.nn.max_pool2d instead.\n",
      "\n",
      "WARNING:tensorflow:From c:\\Users\\marci\\AppData\\Local\\Programs\\Python\\Python311\\Lib\\site-packages\\keras\\src\\optimizers\\__init__.py:309: The name tf.train.Optimizer is deprecated. Please use tf.compat.v1.train.Optimizer instead.\n",
      "\n"
     ]
    }
   ],
   "source": [
    "# ALEXNET\n",
    "\n",
    "model = Sequential()\n",
    "\n",
    "model.add(Conv2D(96, (11, 11), strides=4, activation='relu', input_shape = (512, 512, 3), padding='valid'))\n",
    "model.add(MaxPooling2D(pool_size=(3, 3), strides=2))\n",
    "    \n",
    "model.add(Conv2D(256, (5, 5), strides=1, activation='relu', padding='same'))\n",
    "model.add(MaxPooling2D(pool_size=(3, 3), strides=2))\n",
    "    \n",
    "model.add(Conv2D(384, (3, 3), strides=1, activation='relu', padding='same'))\n",
    "    \n",
    "model.add(Conv2D(384, (3, 3), strides=1, activation='relu', padding='same'))\n",
    "    \n",
    "model.add(Conv2D(256, (3, 3), strides=1, activation='relu', padding='same'))\n",
    "model.add(MaxPooling2D(pool_size=(3, 3), strides=2))\n",
    "    \n",
    "model.add(Flatten())\n",
    "model.add(Dense(4096, activation='relu'))\n",
    "model.add(Dropout(0.5))\n",
    "model.add(Dense(4096, activation='relu'))\n",
    "model.add(Dropout(0.5))\n",
    "model.add(Dense(units = 1, activation = 'sigmoid'))\n",
    "\n",
    "model.compile(loss = 'binary_crossentropy', optimizer = 'adam', metrics = ['accuracy'])"
   ]
  },
  {
   "cell_type": "code",
   "execution_count": 10,
   "metadata": {},
   "outputs": [
    {
     "name": "stderr",
     "output_type": "stream",
     "text": [
      "C:\\Users\\marci\\AppData\\Local\\Temp\\ipykernel_7028\\2331232953.py:3: UserWarning: `input_shape` is undefined or non-square, or `rows` is not in [96, 128, 160, 192, 224]. Weights for input shape (224, 224) will be loaded as the default.\n",
      "  base_model = tf.keras.applications.MobileNetV2(input_shape=(512, 512, 3),\n"
     ]
    }
   ],
   "source": [
    "# MOBILE NET PRÉ-TREINADO\n",
    "\n",
    "base_model = tf.keras.applications.MobileNetV2(input_shape=(512, 512, 3),\n",
    "                                               include_top=False,\n",
    "                                               weights='imagenet')\n",
    "\n",
    "base_model.trainable = False  # Congelar as camadas do modelo base\n",
    "\n",
    "model2 = models.Sequential([\n",
    "    base_model,\n",
    "    layers.GlobalAveragePooling2D(),\n",
    "    layers.Dense(1024, activation='relu'),\n",
    "    layers.Dropout(0.5),\n",
    "    layers.Dense(1, activation='sigmoid')\n",
    "])\n",
    "\n",
    "model2.compile(optimizer=optimizers.Adam(learning_rate=0.001),\n",
    "              loss=losses.CategoricalCrossentropy(from_logits=True),\n",
    "              metrics=['accuracy'])"
   ]
  },
  {
   "cell_type": "code",
   "execution_count": 10,
   "metadata": {},
   "outputs": [
    {
     "name": "stdout",
     "output_type": "stream",
     "text": [
      "Epoch 1/10\n",
      "WARNING:tensorflow:From c:\\Users\\marci\\AppData\\Local\\Programs\\Python\\Python311\\Lib\\site-packages\\keras\\src\\utils\\tf_utils.py:492: The name tf.ragged.RaggedTensorValue is deprecated. Please use tf.compat.v1.ragged.RaggedTensorValue instead.\n",
      "\n",
      "WARNING:tensorflow:From c:\\Users\\marci\\AppData\\Local\\Programs\\Python\\Python311\\Lib\\site-packages\\keras\\src\\engine\\base_layer_utils.py:384: The name tf.executing_eagerly_outside_functions is deprecated. Please use tf.compat.v1.executing_eagerly_outside_functions instead.\n",
      "\n",
      "69/69 [==============================] - 362s 5s/step - loss: 1.1878 - accuracy: 0.4886 - val_loss: 0.6933 - val_accuracy: 0.5055\n",
      "Epoch 2/10\n",
      "69/69 [==============================] - 349s 5s/step - loss: 0.6941 - accuracy: 0.4959 - val_loss: 0.6931 - val_accuracy: 0.5055\n",
      "Epoch 3/10\n",
      "69/69 [==============================] - 347s 5s/step - loss: 0.6935 - accuracy: 0.4959 - val_loss: 0.6931 - val_accuracy: 0.5055\n",
      "Epoch 4/10\n",
      "69/69 [==============================] - 345s 5s/step - loss: 0.6937 - accuracy: 0.4863 - val_loss: 0.6931 - val_accuracy: 0.5055\n",
      "Epoch 5/10\n",
      "69/69 [==============================] - 348s 5s/step - loss: 0.6934 - accuracy: 0.5000 - val_loss: 0.6938 - val_accuracy: 0.4945\n",
      "Epoch 6/10\n",
      "69/69 [==============================] - 344s 5s/step - loss: 0.6934 - accuracy: 0.4982 - val_loss: 0.6931 - val_accuracy: 0.5055\n",
      "Epoch 7/10\n",
      "69/69 [==============================] - 345s 5s/step - loss: 0.6940 - accuracy: 0.4927 - val_loss: 0.6931 - val_accuracy: 0.5055\n",
      "Epoch 8/10\n",
      "69/69 [==============================] - 342s 5s/step - loss: 0.6931 - accuracy: 0.5077 - val_loss: 0.6932 - val_accuracy: 0.4945\n",
      "Epoch 9/10\n",
      "69/69 [==============================] - 347s 5s/step - loss: 0.6931 - accuracy: 0.5159 - val_loss: 0.6932 - val_accuracy: 0.4945\n",
      "Epoch 10/10\n",
      "69/69 [==============================] - 346s 5s/step - loss: 0.6936 - accuracy: 0.4959 - val_loss: 0.6932 - val_accuracy: 0.4945\n"
     ]
    },
    {
     "data": {
      "text/plain": [
       "<keras.src.callbacks.History at 0x176adf2c310>"
      ]
     },
     "execution_count": 10,
     "metadata": {},
     "output_type": "execute_result"
    }
   ],
   "source": [
    "# TREINO ALEXNET\n",
    "\n",
    "board = TensorBoard(log_dir='./logs3AlexSubset50x50')\n",
    "model.fit(dataTrain, classTrain, batch_size = 32, epochs = 10, validation_data = (dataTest, classTest), callbacks=[board])"
   ]
  },
  {
   "cell_type": "code",
   "execution_count": null,
   "metadata": {},
   "outputs": [],
   "source": [
    "board2 = TensorBoard(log_dir='./logsShallow')\n",
    "classifier.fit(dataTrain, classTrain, batch_size = 32, epochs = 10, validation_data = (dataTest, classTest), callbacks=[board2])"
   ]
  },
  {
   "cell_type": "code",
   "execution_count": null,
   "metadata": {},
   "outputs": [],
   "source": [
    "board3 = TensorBoard(log_dir='./logsMobile')\n",
    "model2.fit(dataTrain, classTrain, batch_size = 32, epochs = 10, validation_data = (dataTest, classTest), callbacks=[board3])\n"
   ]
  },
  {
   "cell_type": "code",
   "execution_count": 11,
   "metadata": {},
   "outputs": [],
   "source": [
    "model.save_weights('AlexNet3Subset50x50.weights.h5')\n",
    "#model2.save_weights('mobileNet10ep.weights.h5')\n",
    "#classifier.save_weights('shallownet.weights.h5')"
   ]
  },
  {
   "cell_type": "code",
   "execution_count": 5,
   "metadata": {},
   "outputs": [
    {
     "name": "stderr",
     "output_type": "stream",
     "text": [
      "C:\\Users\\marci\\AppData\\Local\\Packages\\PythonSoftwareFoundation.Python.3.11_qbz5n2kfra8p0\\LocalCache\\local-packages\\Python311\\site-packages\\keras\\src\\saving\\saving_lib.py:396: UserWarning: Skipping variable loading for optimizer 'adam', because it has 2 variables whereas the saved optimizer has 34 variables. \n",
      "  trackable.load_own_variables(weights_store.get(inner_path))\n",
      "C:\\Users\\marci\\AppData\\Local\\Packages\\PythonSoftwareFoundation.Python.3.11_qbz5n2kfra8p0\\LocalCache\\local-packages\\Python311\\site-packages\\keras\\src\\saving\\saving_lib.py:396: UserWarning: Skipping variable loading for optimizer 'adam', because it has 2 variables whereas the saved optimizer has 30 variables. \n",
      "  trackable.load_own_variables(weights_store.get(inner_path))\n"
     ]
    }
   ],
   "source": [
    "# Carregando pesos\n",
    "\n",
    "model.load_weights('AlexNet10ep.weights.h5')\n",
    "classifier.load_weights('shallownet.weights.h5')"
   ]
  },
  {
   "cell_type": "code",
   "execution_count": 67,
   "metadata": {},
   "outputs": [
    {
     "name": "stdout",
     "output_type": "stream",
     "text": [
      "160/160 [==============================] - 164s 991ms/step\n"
     ]
    }
   ],
   "source": [
    "npData = np.array(data)\n",
    "alexPredict = model.predict(npData)\n",
    "#shallowPredict = classifier.predict(npData)\n"
   ]
  },
  {
   "cell_type": "code",
   "execution_count": 68,
   "metadata": {},
   "outputs": [
    {
     "name": "stdout",
     "output_type": "stream",
     "text": [
      "[[0.8320737]\n",
      " [0.8259779]\n",
      " [0.8212664]\n",
      " ...\n",
      " [0.8033839]\n",
      " [0.8216767]\n",
      " [0.7940623]]\n",
      "-----------------\n"
     ]
    }
   ],
   "source": [
    "npAlex = np.array(alexPredict)\n",
    "#npShallow = np.array(shallowPredict)\n",
    "\n",
    "print(npAlex)\n",
    "print('-----------------')\n",
    "#print(npShallow)"
   ]
  },
  {
   "cell_type": "code",
   "execution_count": 69,
   "metadata": {},
   "outputs": [],
   "source": [
    "AlexClass = (npAlex >= 0.5).astype(int)\n",
    "#ShallowClass = (npShallow >= 0.5).astype(int)"
   ]
  },
  {
   "cell_type": "code",
   "execution_count": 71,
   "metadata": {},
   "outputs": [
    {
     "name": "stdout",
     "output_type": "stream",
     "text": [
      "[1 1 1 ... 1 1 1]\n"
     ]
    }
   ],
   "source": [
    "AlexClass = np.ravel(AlexClass)\n",
    "#ShallowClass = np.ravel(ShallowClass)\n",
    "print(AlexClass)\n",
    "#print(ShallowClass)"
   ]
  },
  {
   "cell_type": "code",
   "execution_count": 60,
   "metadata": {},
   "outputs": [
    {
     "name": "stdout",
     "output_type": "stream",
     "text": [
      "alex 5100\n",
      "shallow 3559\n"
     ]
    }
   ],
   "source": [
    "count = 0\n",
    "count2 = 0\n",
    "for i in range(len(AlexClass)):\n",
    "    if AlexClass[i] == 1:\n",
    "        count += 1\n",
    "    \n",
    "    if ShallowClass[i] == 1:\n",
    "        count2 += 1\n",
    "\n",
    "print('alex',count)\n",
    "print('shallow',count2)"
   ]
  }
 ],
 "metadata": {
  "kernelspec": {
   "display_name": "Python 3",
   "language": "python",
   "name": "python3"
  },
  "language_info": {
   "codemirror_mode": {
    "name": "ipython",
    "version": 3
   },
   "file_extension": ".py",
   "mimetype": "text/x-python",
   "name": "python",
   "nbconvert_exporter": "python",
   "pygments_lexer": "ipython3",
   "version": "3.11.4"
  }
 },
 "nbformat": 4,
 "nbformat_minor": 2
}
