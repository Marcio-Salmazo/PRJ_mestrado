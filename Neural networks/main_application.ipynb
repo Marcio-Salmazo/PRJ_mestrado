{
 "cells": [
  {
   "cell_type": "code",
   "execution_count": 19,
   "metadata": {},
   "outputs": [],
   "source": [
    "\n",
    "import generalized_methods as gm"
   ]
  },
  {
   "cell_type": "code",
   "execution_count": 22,
   "metadata": {},
   "outputs": [
    {
     "ename": "NameError",
     "evalue": "name 'os' is not defined",
     "output_type": "error",
     "traceback": [
      "\u001b[1;31m---------------------------------------------------------------------------\u001b[0m",
      "\u001b[1;31mNameError\u001b[0m                                 Traceback (most recent call last)",
      "Cell \u001b[1;32mIn[22], line 4\u001b[0m\n\u001b[0;32m      1\u001b[0m imgPath \u001b[38;5;241m=\u001b[39m \u001b[38;5;124m'\u001b[39m\u001b[38;5;124mC:/Users/marci/Desktop/Remastered Project/Images Dataset/Batch 06.04 Images\u001b[39m\u001b[38;5;124m'\u001b[39m\n\u001b[0;32m      2\u001b[0m csvPath \u001b[38;5;241m=\u001b[39m \u001b[38;5;124m'\u001b[39m\u001b[38;5;124mC:/Users/marci/Desktop/Remastered Project/Datasets/Batch 06.04/RealData.csv\u001b[39m\u001b[38;5;124m'\u001b[39m\n\u001b[1;32m----> 4\u001b[0m imgData, csvData \u001b[38;5;241m=\u001b[39m \u001b[43mgm\u001b[49m\u001b[38;5;241;43m.\u001b[39;49m\u001b[43mgetImages\u001b[49m\u001b[43m(\u001b[49m\u001b[43mimgPath\u001b[49m\u001b[43m,\u001b[49m\u001b[43m \u001b[49m\u001b[43mcsvPath\u001b[49m\u001b[43m)\u001b[49m\n\u001b[0;32m      5\u001b[0m dataTrain, dataTest, classTrain, classTest \u001b[38;5;241m=\u001b[39m gm\u001b[38;5;241m.\u001b[39mdataSplit(imgData, csvData, perc \u001b[38;5;241m=\u001b[39m \u001b[38;5;241m0.2\u001b[39m, norm \u001b[38;5;241m=\u001b[39m \u001b[38;5;241m1\u001b[39m)\n",
      "File \u001b[1;32mc:\\Users\\marci\\Desktop\\Projeto mestrado\\Neural networks\\generalized_methods.py:77\u001b[0m, in \u001b[0;36mgetImages\u001b[1;34m(ImagePath, csvPath)\u001b[0m\n\u001b[0;32m     72\u001b[0m \u001b[38;5;28;01mdef\u001b[39;00m \u001b[38;5;21mgetImages\u001b[39m(ImagePath, csvPath):\n\u001b[0;32m     73\u001b[0m \n\u001b[0;32m     74\u001b[0m     \u001b[38;5;66;03m# Carregamento das imagens:\u001b[39;00m\n\u001b[0;32m     75\u001b[0m     \u001b[38;5;66;03m# img_dir = \"C:/Users/marci/Desktop/Projeto mestrado/CNN Egg application/Egg Dataset\"\u001b[39;00m\n\u001b[0;32m     76\u001b[0m     \u001b[38;5;66;03m# img_dir = \"C:/Users/marci/Desktop/Arquivos/PRJ_mestrado/CNN Egg application/Egg Dataset\"\u001b[39;00m\n\u001b[1;32m---> 77\u001b[0m     data_path \u001b[38;5;241m=\u001b[39m \u001b[43mos\u001b[49m\u001b[38;5;241m.\u001b[39mpath\u001b[38;5;241m.\u001b[39mjoin(ImagePath,\u001b[38;5;124m'\u001b[39m\u001b[38;5;124m*g\u001b[39m\u001b[38;5;124m'\u001b[39m) \n\u001b[0;32m     79\u001b[0m     folder \u001b[38;5;241m=\u001b[39m glob\u001b[38;5;241m.\u001b[39mglob(data_path) \n\u001b[0;32m     80\u001b[0m     data \u001b[38;5;241m=\u001b[39m [] \n",
      "\u001b[1;31mNameError\u001b[0m: name 'os' is not defined"
     ]
    }
   ],
   "source": [
    "imgPath = 'C:/Users/marci/Desktop/Remastered Project/Images Dataset/Batch 06.04 Images'\n",
    "csvPath = 'C:/Users/marci/Desktop/Remastered Project/Datasets/Batch 06.04/RealData.csv'\n",
    "\n",
    "imgData, csvData = gm.getImages(imgPath, csvPath)\n",
    "dataTrain, dataTest, classTrain, classTest = gm.dataSplit(imgData, csvData, perc = 0.2, norm = 1)\n",
    "\n"
   ]
  },
  {
   "cell_type": "code",
   "execution_count": 12,
   "metadata": {},
   "outputs": [
    {
     "ename": "NameError",
     "evalue": "name 'dataTrain' is not defined",
     "output_type": "error",
     "traceback": [
      "\u001b[1;31m---------------------------------------------------------------------------\u001b[0m",
      "\u001b[1;31mNameError\u001b[0m                                 Traceback (most recent call last)",
      "Cell \u001b[1;32mIn[12], line 2\u001b[0m\n\u001b[0;32m      1\u001b[0m \u001b[38;5;66;03m# Snippet responsável pelo treinamento das redes\u001b[39;00m\n\u001b[1;32m----> 2\u001b[0m alexNet \u001b[38;5;241m=\u001b[39m gm\u001b[38;5;241m.\u001b[39mAlexNet(dataTrain \u001b[38;5;241m=\u001b[39m \u001b[43mdataTrain\u001b[49m,\n\u001b[0;32m      3\u001b[0m                          classTrain\u001b[38;5;241m=\u001b[39m classTrain,\n\u001b[0;32m      4\u001b[0m                          batch_size \u001b[38;5;241m=\u001b[39m \u001b[38;5;241m32\u001b[39m,\n\u001b[0;32m      5\u001b[0m                          epochs \u001b[38;5;241m=\u001b[39m \u001b[38;5;241m5\u001b[39m,\n\u001b[0;32m      6\u001b[0m                          valData \u001b[38;5;241m=\u001b[39m (dataTest, classTest))\n\u001b[0;32m      8\u001b[0m \u001b[38;5;66;03m# Salvar os pesos de um modelo, comentar caso não seja necessário\u001b[39;00m\n\u001b[0;32m      9\u001b[0m alexNet\u001b[38;5;241m.\u001b[39msave_weights(\u001b[38;5;124m'\u001b[39m\u001b[38;5;124malex.weights.h5\u001b[39m\u001b[38;5;124m'\u001b[39m)\n",
      "\u001b[1;31mNameError\u001b[0m: name 'dataTrain' is not defined"
     ]
    }
   ],
   "source": [
    "# Snippet responsável pelo treinamento das redes\n",
    "alexNet = gm.AlexNet(dataTrain = dataTrain,\n",
    "                         classTrain= classTrain,\n",
    "                         batch_size = 32,\n",
    "                         epochs = 5,\n",
    "                         valData = (dataTest, classTest))\n",
    "\n",
    "# Salvar os pesos de um modelo, comentar caso não seja necessário\n",
    "alexNet.save_weights('alex.weights.h5')"
   ]
  }
 ],
 "metadata": {
  "kernelspec": {
   "display_name": "Python 3",
   "language": "python",
   "name": "python3"
  },
  "language_info": {
   "codemirror_mode": {
    "name": "ipython",
    "version": 3
   },
   "file_extension": ".py",
   "mimetype": "text/x-python",
   "name": "python",
   "nbconvert_exporter": "python",
   "pygments_lexer": "ipython3",
   "version": "3.11.4"
  }
 },
 "nbformat": 4,
 "nbformat_minor": 2
}
